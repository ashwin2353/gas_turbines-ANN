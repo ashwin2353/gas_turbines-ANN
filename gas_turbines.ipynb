{
  "nbformat": 4,
  "nbformat_minor": 0,
  "metadata": {
    "colab": {
      "provenance": []
    },
    "kernelspec": {
      "name": "python3",
      "display_name": "Python 3"
    },
    "language_info": {
      "name": "python"
    }
  },
  "cells": [
    {
      "cell_type": "code",
      "execution_count": 5,
      "metadata": {
        "colab": {
          "base_uri": "https://localhost:8080/",
          "height": 74
        },
        "id": "4Sjm9ZaTphJH",
        "outputId": "d3530e18-24b6-4819-bc77-a79b06e478a1"
      },
      "outputs": [
        {
          "output_type": "display_data",
          "data": {
            "text/plain": [
              "<IPython.core.display.HTML object>"
            ],
            "text/html": [
              "\n",
              "     <input type=\"file\" id=\"files-4953b1b5-472c-458a-95de-b01dd5b8dd89\" name=\"files[]\" multiple disabled\n",
              "        style=\"border:none\" />\n",
              "     <output id=\"result-4953b1b5-472c-458a-95de-b01dd5b8dd89\">\n",
              "      Upload widget is only available when the cell has been executed in the\n",
              "      current browser session. Please rerun this cell to enable.\n",
              "      </output>\n",
              "      <script>// Copyright 2017 Google LLC\n",
              "//\n",
              "// Licensed under the Apache License, Version 2.0 (the \"License\");\n",
              "// you may not use this file except in compliance with the License.\n",
              "// You may obtain a copy of the License at\n",
              "//\n",
              "//      http://www.apache.org/licenses/LICENSE-2.0\n",
              "//\n",
              "// Unless required by applicable law or agreed to in writing, software\n",
              "// distributed under the License is distributed on an \"AS IS\" BASIS,\n",
              "// WITHOUT WARRANTIES OR CONDITIONS OF ANY KIND, either express or implied.\n",
              "// See the License for the specific language governing permissions and\n",
              "// limitations under the License.\n",
              "\n",
              "/**\n",
              " * @fileoverview Helpers for google.colab Python module.\n",
              " */\n",
              "(function(scope) {\n",
              "function span(text, styleAttributes = {}) {\n",
              "  const element = document.createElement('span');\n",
              "  element.textContent = text;\n",
              "  for (const key of Object.keys(styleAttributes)) {\n",
              "    element.style[key] = styleAttributes[key];\n",
              "  }\n",
              "  return element;\n",
              "}\n",
              "\n",
              "// Max number of bytes which will be uploaded at a time.\n",
              "const MAX_PAYLOAD_SIZE = 100 * 1024;\n",
              "\n",
              "function _uploadFiles(inputId, outputId) {\n",
              "  const steps = uploadFilesStep(inputId, outputId);\n",
              "  const outputElement = document.getElementById(outputId);\n",
              "  // Cache steps on the outputElement to make it available for the next call\n",
              "  // to uploadFilesContinue from Python.\n",
              "  outputElement.steps = steps;\n",
              "\n",
              "  return _uploadFilesContinue(outputId);\n",
              "}\n",
              "\n",
              "// This is roughly an async generator (not supported in the browser yet),\n",
              "// where there are multiple asynchronous steps and the Python side is going\n",
              "// to poll for completion of each step.\n",
              "// This uses a Promise to block the python side on completion of each step,\n",
              "// then passes the result of the previous step as the input to the next step.\n",
              "function _uploadFilesContinue(outputId) {\n",
              "  const outputElement = document.getElementById(outputId);\n",
              "  const steps = outputElement.steps;\n",
              "\n",
              "  const next = steps.next(outputElement.lastPromiseValue);\n",
              "  return Promise.resolve(next.value.promise).then((value) => {\n",
              "    // Cache the last promise value to make it available to the next\n",
              "    // step of the generator.\n",
              "    outputElement.lastPromiseValue = value;\n",
              "    return next.value.response;\n",
              "  });\n",
              "}\n",
              "\n",
              "/**\n",
              " * Generator function which is called between each async step of the upload\n",
              " * process.\n",
              " * @param {string} inputId Element ID of the input file picker element.\n",
              " * @param {string} outputId Element ID of the output display.\n",
              " * @return {!Iterable<!Object>} Iterable of next steps.\n",
              " */\n",
              "function* uploadFilesStep(inputId, outputId) {\n",
              "  const inputElement = document.getElementById(inputId);\n",
              "  inputElement.disabled = false;\n",
              "\n",
              "  const outputElement = document.getElementById(outputId);\n",
              "  outputElement.innerHTML = '';\n",
              "\n",
              "  const pickedPromise = new Promise((resolve) => {\n",
              "    inputElement.addEventListener('change', (e) => {\n",
              "      resolve(e.target.files);\n",
              "    });\n",
              "  });\n",
              "\n",
              "  const cancel = document.createElement('button');\n",
              "  inputElement.parentElement.appendChild(cancel);\n",
              "  cancel.textContent = 'Cancel upload';\n",
              "  const cancelPromise = new Promise((resolve) => {\n",
              "    cancel.onclick = () => {\n",
              "      resolve(null);\n",
              "    };\n",
              "  });\n",
              "\n",
              "  // Wait for the user to pick the files.\n",
              "  const files = yield {\n",
              "    promise: Promise.race([pickedPromise, cancelPromise]),\n",
              "    response: {\n",
              "      action: 'starting',\n",
              "    }\n",
              "  };\n",
              "\n",
              "  cancel.remove();\n",
              "\n",
              "  // Disable the input element since further picks are not allowed.\n",
              "  inputElement.disabled = true;\n",
              "\n",
              "  if (!files) {\n",
              "    return {\n",
              "      response: {\n",
              "        action: 'complete',\n",
              "      }\n",
              "    };\n",
              "  }\n",
              "\n",
              "  for (const file of files) {\n",
              "    const li = document.createElement('li');\n",
              "    li.append(span(file.name, {fontWeight: 'bold'}));\n",
              "    li.append(span(\n",
              "        `(${file.type || 'n/a'}) - ${file.size} bytes, ` +\n",
              "        `last modified: ${\n",
              "            file.lastModifiedDate ? file.lastModifiedDate.toLocaleDateString() :\n",
              "                                    'n/a'} - `));\n",
              "    const percent = span('0% done');\n",
              "    li.appendChild(percent);\n",
              "\n",
              "    outputElement.appendChild(li);\n",
              "\n",
              "    const fileDataPromise = new Promise((resolve) => {\n",
              "      const reader = new FileReader();\n",
              "      reader.onload = (e) => {\n",
              "        resolve(e.target.result);\n",
              "      };\n",
              "      reader.readAsArrayBuffer(file);\n",
              "    });\n",
              "    // Wait for the data to be ready.\n",
              "    let fileData = yield {\n",
              "      promise: fileDataPromise,\n",
              "      response: {\n",
              "        action: 'continue',\n",
              "      }\n",
              "    };\n",
              "\n",
              "    // Use a chunked sending to avoid message size limits. See b/62115660.\n",
              "    let position = 0;\n",
              "    do {\n",
              "      const length = Math.min(fileData.byteLength - position, MAX_PAYLOAD_SIZE);\n",
              "      const chunk = new Uint8Array(fileData, position, length);\n",
              "      position += length;\n",
              "\n",
              "      const base64 = btoa(String.fromCharCode.apply(null, chunk));\n",
              "      yield {\n",
              "        response: {\n",
              "          action: 'append',\n",
              "          file: file.name,\n",
              "          data: base64,\n",
              "        },\n",
              "      };\n",
              "\n",
              "      let percentDone = fileData.byteLength === 0 ?\n",
              "          100 :\n",
              "          Math.round((position / fileData.byteLength) * 100);\n",
              "      percent.textContent = `${percentDone}% done`;\n",
              "\n",
              "    } while (position < fileData.byteLength);\n",
              "  }\n",
              "\n",
              "  // All done.\n",
              "  yield {\n",
              "    response: {\n",
              "      action: 'complete',\n",
              "    }\n",
              "  };\n",
              "}\n",
              "\n",
              "scope.google = scope.google || {};\n",
              "scope.google.colab = scope.google.colab || {};\n",
              "scope.google.colab._files = {\n",
              "  _uploadFiles,\n",
              "  _uploadFilesContinue,\n",
              "};\n",
              "})(self);\n",
              "</script> "
            ]
          },
          "metadata": {}
        },
        {
          "output_type": "stream",
          "name": "stdout",
          "text": [
            "Saving gas_turbines.csv to gas_turbines.csv\n"
          ]
        }
      ],
      "source": [
        "from google.colab import files\n",
        "uploaded = files.upload()"
      ]
    },
    {
      "cell_type": "code",
      "source": [
        "import pandas as pd \n",
        "df = pd.read_csv(\"gas_turbines.csv\")"
      ],
      "metadata": {
        "id": "B2Cc6Ri7pmjn"
      },
      "execution_count": 6,
      "outputs": []
    },
    {
      "cell_type": "code",
      "source": [
        "df.shape"
      ],
      "metadata": {
        "colab": {
          "base_uri": "https://localhost:8080/"
        },
        "id": "YuccMpwVwTm4",
        "outputId": "6b19ab3d-600d-42ae-9afb-2ae438c35582"
      },
      "execution_count": 7,
      "outputs": [
        {
          "output_type": "execute_result",
          "data": {
            "text/plain": [
              "(15039, 11)"
            ]
          },
          "metadata": {},
          "execution_count": 7
        }
      ]
    },
    {
      "cell_type": "code",
      "source": [
        "df.dtypes"
      ],
      "metadata": {
        "colab": {
          "base_uri": "https://localhost:8080/"
        },
        "id": "6AeUHkwSwWUf",
        "outputId": "666af9b6-78fd-4e00-97f9-dd0916f5169e"
      },
      "execution_count": 8,
      "outputs": [
        {
          "output_type": "execute_result",
          "data": {
            "text/plain": [
              "AT      float64\n",
              "AP      float64\n",
              "AH      float64\n",
              "AFDP    float64\n",
              "GTEP    float64\n",
              "TIT     float64\n",
              "TAT     float64\n",
              "TEY     float64\n",
              "CDP     float64\n",
              "CO      float64\n",
              "NOX     float64\n",
              "dtype: object"
            ]
          },
          "metadata": {},
          "execution_count": 8
        }
      ]
    },
    {
      "cell_type": "code",
      "source": [
        "df.head()"
      ],
      "metadata": {
        "colab": {
          "base_uri": "https://localhost:8080/",
          "height": 206
        },
        "id": "PUaMM-NpwZNq",
        "outputId": "38b2443c-d489-46ad-f448-0b75eb12d016"
      },
      "execution_count": 9,
      "outputs": [
        {
          "output_type": "execute_result",
          "data": {
            "text/plain": [
              "       AT      AP      AH    AFDP    GTEP     TIT     TAT     TEY     CDP  \\\n",
              "0  6.8594  1007.9  96.799  3.5000  19.663  1059.2  550.00  114.70  10.605   \n",
              "1  6.7850  1008.4  97.118  3.4998  19.728  1059.3  550.00  114.72  10.598   \n",
              "2  6.8977  1008.8  95.939  3.4824  19.779  1059.4  549.87  114.71  10.601   \n",
              "3  7.0569  1009.2  95.249  3.4805  19.792  1059.6  549.99  114.72  10.606   \n",
              "4  7.3978  1009.7  95.150  3.4976  19.765  1059.7  549.98  114.72  10.612   \n",
              "\n",
              "       CO     NOX  \n",
              "0  3.1547  82.722  \n",
              "1  3.2363  82.776  \n",
              "2  3.2012  82.468  \n",
              "3  3.1923  82.670  \n",
              "4  3.2484  82.311  "
            ],
            "text/html": [
              "\n",
              "  <div id=\"df-e6589140-2af9-4872-9ca4-8407823180f3\">\n",
              "    <div class=\"colab-df-container\">\n",
              "      <div>\n",
              "<style scoped>\n",
              "    .dataframe tbody tr th:only-of-type {\n",
              "        vertical-align: middle;\n",
              "    }\n",
              "\n",
              "    .dataframe tbody tr th {\n",
              "        vertical-align: top;\n",
              "    }\n",
              "\n",
              "    .dataframe thead th {\n",
              "        text-align: right;\n",
              "    }\n",
              "</style>\n",
              "<table border=\"1\" class=\"dataframe\">\n",
              "  <thead>\n",
              "    <tr style=\"text-align: right;\">\n",
              "      <th></th>\n",
              "      <th>AT</th>\n",
              "      <th>AP</th>\n",
              "      <th>AH</th>\n",
              "      <th>AFDP</th>\n",
              "      <th>GTEP</th>\n",
              "      <th>TIT</th>\n",
              "      <th>TAT</th>\n",
              "      <th>TEY</th>\n",
              "      <th>CDP</th>\n",
              "      <th>CO</th>\n",
              "      <th>NOX</th>\n",
              "    </tr>\n",
              "  </thead>\n",
              "  <tbody>\n",
              "    <tr>\n",
              "      <th>0</th>\n",
              "      <td>6.8594</td>\n",
              "      <td>1007.9</td>\n",
              "      <td>96.799</td>\n",
              "      <td>3.5000</td>\n",
              "      <td>19.663</td>\n",
              "      <td>1059.2</td>\n",
              "      <td>550.00</td>\n",
              "      <td>114.70</td>\n",
              "      <td>10.605</td>\n",
              "      <td>3.1547</td>\n",
              "      <td>82.722</td>\n",
              "    </tr>\n",
              "    <tr>\n",
              "      <th>1</th>\n",
              "      <td>6.7850</td>\n",
              "      <td>1008.4</td>\n",
              "      <td>97.118</td>\n",
              "      <td>3.4998</td>\n",
              "      <td>19.728</td>\n",
              "      <td>1059.3</td>\n",
              "      <td>550.00</td>\n",
              "      <td>114.72</td>\n",
              "      <td>10.598</td>\n",
              "      <td>3.2363</td>\n",
              "      <td>82.776</td>\n",
              "    </tr>\n",
              "    <tr>\n",
              "      <th>2</th>\n",
              "      <td>6.8977</td>\n",
              "      <td>1008.8</td>\n",
              "      <td>95.939</td>\n",
              "      <td>3.4824</td>\n",
              "      <td>19.779</td>\n",
              "      <td>1059.4</td>\n",
              "      <td>549.87</td>\n",
              "      <td>114.71</td>\n",
              "      <td>10.601</td>\n",
              "      <td>3.2012</td>\n",
              "      <td>82.468</td>\n",
              "    </tr>\n",
              "    <tr>\n",
              "      <th>3</th>\n",
              "      <td>7.0569</td>\n",
              "      <td>1009.2</td>\n",
              "      <td>95.249</td>\n",
              "      <td>3.4805</td>\n",
              "      <td>19.792</td>\n",
              "      <td>1059.6</td>\n",
              "      <td>549.99</td>\n",
              "      <td>114.72</td>\n",
              "      <td>10.606</td>\n",
              "      <td>3.1923</td>\n",
              "      <td>82.670</td>\n",
              "    </tr>\n",
              "    <tr>\n",
              "      <th>4</th>\n",
              "      <td>7.3978</td>\n",
              "      <td>1009.7</td>\n",
              "      <td>95.150</td>\n",
              "      <td>3.4976</td>\n",
              "      <td>19.765</td>\n",
              "      <td>1059.7</td>\n",
              "      <td>549.98</td>\n",
              "      <td>114.72</td>\n",
              "      <td>10.612</td>\n",
              "      <td>3.2484</td>\n",
              "      <td>82.311</td>\n",
              "    </tr>\n",
              "  </tbody>\n",
              "</table>\n",
              "</div>\n",
              "      <button class=\"colab-df-convert\" onclick=\"convertToInteractive('df-e6589140-2af9-4872-9ca4-8407823180f3')\"\n",
              "              title=\"Convert this dataframe to an interactive table.\"\n",
              "              style=\"display:none;\">\n",
              "        \n",
              "  <svg xmlns=\"http://www.w3.org/2000/svg\" height=\"24px\"viewBox=\"0 0 24 24\"\n",
              "       width=\"24px\">\n",
              "    <path d=\"M0 0h24v24H0V0z\" fill=\"none\"/>\n",
              "    <path d=\"M18.56 5.44l.94 2.06.94-2.06 2.06-.94-2.06-.94-.94-2.06-.94 2.06-2.06.94zm-11 1L8.5 8.5l.94-2.06 2.06-.94-2.06-.94L8.5 2.5l-.94 2.06-2.06.94zm10 10l.94 2.06.94-2.06 2.06-.94-2.06-.94-.94-2.06-.94 2.06-2.06.94z\"/><path d=\"M17.41 7.96l-1.37-1.37c-.4-.4-.92-.59-1.43-.59-.52 0-1.04.2-1.43.59L10.3 9.45l-7.72 7.72c-.78.78-.78 2.05 0 2.83L4 21.41c.39.39.9.59 1.41.59.51 0 1.02-.2 1.41-.59l7.78-7.78 2.81-2.81c.8-.78.8-2.07 0-2.86zM5.41 20L4 18.59l7.72-7.72 1.47 1.35L5.41 20z\"/>\n",
              "  </svg>\n",
              "      </button>\n",
              "      \n",
              "  <style>\n",
              "    .colab-df-container {\n",
              "      display:flex;\n",
              "      flex-wrap:wrap;\n",
              "      gap: 12px;\n",
              "    }\n",
              "\n",
              "    .colab-df-convert {\n",
              "      background-color: #E8F0FE;\n",
              "      border: none;\n",
              "      border-radius: 50%;\n",
              "      cursor: pointer;\n",
              "      display: none;\n",
              "      fill: #1967D2;\n",
              "      height: 32px;\n",
              "      padding: 0 0 0 0;\n",
              "      width: 32px;\n",
              "    }\n",
              "\n",
              "    .colab-df-convert:hover {\n",
              "      background-color: #E2EBFA;\n",
              "      box-shadow: 0px 1px 2px rgba(60, 64, 67, 0.3), 0px 1px 3px 1px rgba(60, 64, 67, 0.15);\n",
              "      fill: #174EA6;\n",
              "    }\n",
              "\n",
              "    [theme=dark] .colab-df-convert {\n",
              "      background-color: #3B4455;\n",
              "      fill: #D2E3FC;\n",
              "    }\n",
              "\n",
              "    [theme=dark] .colab-df-convert:hover {\n",
              "      background-color: #434B5C;\n",
              "      box-shadow: 0px 1px 3px 1px rgba(0, 0, 0, 0.15);\n",
              "      filter: drop-shadow(0px 1px 2px rgba(0, 0, 0, 0.3));\n",
              "      fill: #FFFFFF;\n",
              "    }\n",
              "  </style>\n",
              "\n",
              "      <script>\n",
              "        const buttonEl =\n",
              "          document.querySelector('#df-e6589140-2af9-4872-9ca4-8407823180f3 button.colab-df-convert');\n",
              "        buttonEl.style.display =\n",
              "          google.colab.kernel.accessAllowed ? 'block' : 'none';\n",
              "\n",
              "        async function convertToInteractive(key) {\n",
              "          const element = document.querySelector('#df-e6589140-2af9-4872-9ca4-8407823180f3');\n",
              "          const dataTable =\n",
              "            await google.colab.kernel.invokeFunction('convertToInteractive',\n",
              "                                                     [key], {});\n",
              "          if (!dataTable) return;\n",
              "\n",
              "          const docLinkHtml = 'Like what you see? Visit the ' +\n",
              "            '<a target=\"_blank\" href=https://colab.research.google.com/notebooks/data_table.ipynb>data table notebook</a>'\n",
              "            + ' to learn more about interactive tables.';\n",
              "          element.innerHTML = '';\n",
              "          dataTable['output_type'] = 'display_data';\n",
              "          await google.colab.output.renderOutput(dataTable, element);\n",
              "          const docLink = document.createElement('div');\n",
              "          docLink.innerHTML = docLinkHtml;\n",
              "          element.appendChild(docLink);\n",
              "        }\n",
              "      </script>\n",
              "    </div>\n",
              "  </div>\n",
              "  "
            ]
          },
          "metadata": {},
          "execution_count": 9
        }
      ]
    },
    {
      "cell_type": "code",
      "source": [
        "# finding null values \n",
        "df.isnull().sum()\n"
      ],
      "metadata": {
        "colab": {
          "base_uri": "https://localhost:8080/"
        },
        "id": "mpC1N37Cwhp1",
        "outputId": "a008be85-c54d-4186-bf27-ff3d7b75fd02"
      },
      "execution_count": 10,
      "outputs": [
        {
          "output_type": "execute_result",
          "data": {
            "text/plain": [
              "AT      0\n",
              "AP      0\n",
              "AH      0\n",
              "AFDP    0\n",
              "GTEP    0\n",
              "TIT     0\n",
              "TAT     0\n",
              "TEY     0\n",
              "CDP     0\n",
              "CO      0\n",
              "NOX     0\n",
              "dtype: int64"
            ]
          },
          "metadata": {},
          "execution_count": 10
        }
      ]
    },
    {
      "cell_type": "code",
      "source": [
        " # finding duplicate rows\n",
        " df.duplicated().sum()"
      ],
      "metadata": {
        "colab": {
          "base_uri": "https://localhost:8080/"
        },
        "id": "qOqmc1kYwyGY",
        "outputId": "a6c11410-c1fe-46c8-bff5-1bcc4a8df9f2"
      },
      "execution_count": 11,
      "outputs": [
        {
          "output_type": "execute_result",
          "data": {
            "text/plain": [
              "0"
            ]
          },
          "metadata": {},
          "execution_count": 11
        }
      ]
    },
    {
      "cell_type": "code",
      "source": [
        "# finding duplicate columns\n",
        "df.columns.duplicated().sum()"
      ],
      "metadata": {
        "colab": {
          "base_uri": "https://localhost:8080/"
        },
        "id": "fK1GMqmoy3HN",
        "outputId": "402973b9-14ce-41ff-ff85-1f1642e201d4"
      },
      "execution_count": 12,
      "outputs": [
        {
          "output_type": "execute_result",
          "data": {
            "text/plain": [
              "0"
            ]
          },
          "metadata": {},
          "execution_count": 12
        }
      ]
    },
    {
      "cell_type": "code",
      "source": [
        "# Data visualization\n",
        "# Boxplot\n",
        "import matplotlib.pyplot as plt\n",
        "def plot_boxplot(df,ft):\n",
        "  df.boxplot(column=[ft])\n",
        "  plt.grid(False)\n",
        "  plt.show()\n",
        "\n",
        "plot_boxplot(df,\"AT\")\n",
        "plot_boxplot(df,\"AP\")\n",
        "plot_boxplot(df,\"AH\")\n",
        "plot_boxplot(df,\"AFDP\")\n",
        "plot_boxplot(df,\"GTEP\")\n",
        "plot_boxplot(df,\"TIT\")\n",
        "plot_boxplot(df,\"TAT\")\n",
        "plot_boxplot(df,\"CDP\")\n",
        "plot_boxplot(df,\"CO\")\n",
        "plot_boxplot(df,\"NOX\")\n",
        "\n",
        "def outliers(df,ft):\n",
        "  Q1 = df[ft].quantile(0.25)\n",
        "  Q3 = df[ft].quantile(0.75)\n",
        "  IQR = Q3 - Q1\n",
        "  lower_bound = Q1 - 1.5 * IQR\n",
        "  upper_bound = Q3 + 1.5 * IQR\n",
        "  ls = df.index[(df[ft]< lower_bound) | (df[ft]> upper_bound)]\n",
        "  return ls\n",
        "\n",
        "index_list=[]\n",
        "for feature in [\"AT\",\"AP\",\"AH\",\"AFDP\",\"GTEP\",\"TIT\",\"TAT\",\"TEY\",\"CDP\",\"CO\",\"NOX\"]:\n",
        "  index_list.extend(outliers(df,feature))\n",
        "\n",
        "index_list\n",
        "\n",
        "def remove(df,ls):\n",
        "  ls = sorted(set(ls))\n",
        "  df = df.drop(ls)\n",
        "  return df\n",
        "df_cleaned = remove(df,index_list)\n",
        "df_cleaned.shape\n",
        " \n"
      ],
      "metadata": {
        "colab": {
          "base_uri": "https://localhost:8080/",
          "height": 1000
        },
        "id": "vvRdXLI4zE89",
        "outputId": "e926de15-e17f-41d4-83f4-ae49778c242b"
      },
      "execution_count": 13,
      "outputs": [
        {
          "output_type": "display_data",
          "data": {
            "text/plain": [
              "<Figure size 432x288 with 1 Axes>"
            ],
            "image/png": "[encoded data removed]"
          },
          "metadata": {
            "needs_background": "light"
          }
        },
        {
          "output_type": "display_data",
          "data": {
            "text/plain": [
              "<Figure size 432x288 with 1 Axes>"
            ],
            "image/png": "[encoded data removed]"
          },
          "metadata": {
            "needs_background": "light"
          }
        },
        {
          "output_type": "display_data",
          "data": {
            "text/plain": [
              "<Figure size 432x288 with 1 Axes>"
            ],
            "image/png": "[encoded data removed]"
          },
          "metadata": {
            "needs_background": "light"
          }
        },
        {
          "output_type": "display_data",
          "data": {
            "text/plain": [
              "<Figure size 432x288 with 1 Axes>"
            ],
            "image/png": "[encoded data removed]"
          },
          "metadata": {
            "needs_background": "light"
          }
        },
        {
          "output_type": "display_data",
          "data": {
            "text/plain": [
              "<Figure size 432x288 with 1 Axes>"
            ],
            "image/png": "[encoded data removed]"
          },
          "metadata": {
            "needs_background": "light"
          }
        },
        {
          "output_type": "display_data",
          "data": {
            "text/plain": [
              "<Figure size 432x288 with 1 Axes>"
            ],
            "image/png": "[encoded data removed]"
          },
          "metadata": {
            "needs_background": "light"
          }
        },
        {
          "output_type": "display_data",
          "data": {
            "text/plain": [
              "<Figure size 432x288 with 1 Axes>"
            ],
            "image/png": "[encoded data removed]"
          },
          "metadata": {
            "needs_background": "light"
          }
        },
        {
          "output_type": "display_data",
          "data": {
            "text/plain": [
              "<Figure size 432x288 with 1 Axes>"
            ],
            "image/png": "[encoded data removed]"
          },
          "metadata": {
            "needs_background": "light"
          }
        },
        {
          "output_type": "display_data",
          "data": {
            "text/plain": [
              "<Figure size 432x288 with 1 Axes>"
            ],
            "image/png": "[encoded data removed]"
          },
          "metadata": {
            "needs_background": "light"
          }
        },
        {
          "output_type": "display_data",
          "data": {
            "text/plain": [
              "<Figure size 432x288 with 1 Axes>"
            ],
            "image/png": "[encoded data removed]"
          },
          "metadata": {
            "needs_background": "light"
          }
        },
        {
          "output_type": "execute_result",
          "data": {
            "text/plain": [
              "(11352, 11)"
            ]
          },
          "metadata": {},
          "execution_count": 13
        }
      ]
    },
    {
      "cell_type": "code",
      "source": [
        "# Standardizaton\n",
        "from sklearn.preprocessing import StandardScaler\n",
        "SS = StandardScaler()\n",
        "df_new = SS.fit_transform(df_cleaned)\n"
      ],
      "metadata": {
        "id": "a1uTqwDzbvxu"
      },
      "execution_count": 14,
      "outputs": []
    },
    {
      "cell_type": "code",
      "source": [
        "df_new = pd.DataFrame(df_new,columns=(df.columns))"
      ],
      "metadata": {
        "id": "A99ZrbFpgkvM"
      },
      "execution_count": 15,
      "outputs": []
    },
    {
      "cell_type": "code",
      "source": [
        "df_new"
      ],
      "metadata": {
        "colab": {
          "base_uri": "https://localhost:8080/",
          "height": 424
        },
        "id": "zUYMaYtJlZ-q",
        "outputId": "69f50905-bd62-4295-ca9c-90cd7df4ddcd"
      },
      "execution_count": 16,
      "outputs": [
        {
          "output_type": "execute_result",
          "data": {
            "text/plain": [
              "             AT        AP        AH      AFDP      GTEP       TIT       TAT  \\\n",
              "0     -1.660285 -0.858368  1.334043 -1.043930 -1.810179 -2.258625  0.459165   \n",
              "1     -1.670373 -0.770287  1.356849 -1.044261 -1.789137 -2.250305  0.459165   \n",
              "2     -1.655092 -0.699823  1.272562 -1.073003 -1.772627 -2.241984  0.434633   \n",
              "3     -1.633506 -0.629359  1.223233 -1.076141 -1.768418 -2.225344  0.457277   \n",
              "4     -1.587283 -0.541279  1.216155 -1.047895 -1.777159 -2.217023  0.455390   \n",
              "...         ...       ...       ...       ...       ...       ...       ...   \n",
              "11347 -1.228486 -1.140225  0.391225 -0.562916 -1.212903 -1.409949  0.457277   \n",
              "11348 -1.198927 -1.140225  0.193983 -0.583894 -1.064959 -1.343386  0.306314   \n",
              "11349 -1.202182 -1.439697  1.562527 -0.415407 -1.310668 -1.568036  0.519550   \n",
              "11350 -1.187402 -1.386849  1.575038  0.310244 -0.390635 -0.170217  0.455390   \n",
              "11351 -1.213435 -1.351617  1.561813 -0.706460 -1.753851 -2.217023  0.440294   \n",
              "\n",
              "            TEY       CDP        CO       NOX  \n",
              "0     -1.689526 -1.808411  2.041825  1.788323  \n",
              "1     -1.687767 -1.817028  2.140766  1.794539  \n",
              "2     -1.688646 -1.813335  2.098207  1.759089  \n",
              "3     -1.687767 -1.807180  2.087416  1.782338  \n",
              "4     -1.687767 -1.799794  2.155438  1.741019  \n",
              "...         ...       ...       ...       ...  \n",
              "11347 -1.087882 -1.216312  2.647478  1.385946  \n",
              "11348 -0.890853 -1.091984  1.033737  1.431984  \n",
              "11349 -1.112511 -1.319714  1.465030  1.128014  \n",
              "11350 -0.014775 -0.478958 -0.126644  0.847409  \n",
              "11351 -1.617399 -1.851495  2.314035  1.271885  \n",
              "\n",
              "[11352 rows x 11 columns]"
            ],
            "text/html": [
              "\n",
              "  <div id=\"df-c8d3067b-07e8-4bdf-b23f-5dc8a72bd2b8\">\n",
              "    <div class=\"colab-df-container\">\n",
              "      <div>\n",
              "<style scoped>\n",
              "    .dataframe tbody tr th:only-of-type {\n",
              "        vertical-align: middle;\n",
              "    }\n",
              "\n",
              "    .dataframe tbody tr th {\n",
              "        vertical-align: top;\n",
              "    }\n",
              "\n",
              "    .dataframe thead th {\n",
              "        text-align: right;\n",
              "    }\n",
              "</style>\n",
              "<table border=\"1\" class=\"dataframe\">\n",
              "  <thead>\n",
              "    <tr style=\"text-align: right;\">\n",
              "      <th></th>\n",
              "      <th>AT</th>\n",
              "      <th>AP</th>\n",
              "      <th>AH</th>\n",
              "      <th>AFDP</th>\n",
              "      <th>GTEP</th>\n",
              "      <th>TIT</th>\n",
              "      <th>TAT</th>\n",
              "      <th>TEY</th>\n",
              "      <th>CDP</th>\n",
              "      <th>CO</th>\n",
              "      <th>NOX</th>\n",
              "    </tr>\n",
              "  </thead>\n",
              "  <tbody>\n",
              "    <tr>\n",
              "      <th>0</th>\n",
              "      <td>-1.660285</td>\n",
              "      <td>-0.858368</td>\n",
              "      <td>1.334043</td>\n",
              "      <td>-1.043930</td>\n",
              "      <td>-1.810179</td>\n",
              "      <td>-2.258625</td>\n",
              "      <td>0.459165</td>\n",
              "      <td>-1.689526</td>\n",
              "      <td>-1.808411</td>\n",
              "      <td>2.041825</td>\n",
              "      <td>1.788323</td>\n",
              "    </tr>\n",
              "    <tr>\n",
              "      <th>1</th>\n",
              "      <td>-1.670373</td>\n",
              "      <td>-0.770287</td>\n",
              "      <td>1.356849</td>\n",
              "      <td>-1.044261</td>\n",
              "      <td>-1.789137</td>\n",
              "      <td>-2.250305</td>\n",
              "      <td>0.459165</td>\n",
              "      <td>-1.687767</td>\n",
              "      <td>-1.817028</td>\n",
              "      <td>2.140766</td>\n",
              "      <td>1.794539</td>\n",
              "    </tr>\n",
              "    <tr>\n",
              "      <th>2</th>\n",
              "      <td>-1.655092</td>\n",
              "      <td>-0.699823</td>\n",
              "      <td>1.272562</td>\n",
              "      <td>-1.073003</td>\n",
              "      <td>-1.772627</td>\n",
              "      <td>-2.241984</td>\n",
              "      <td>0.434633</td>\n",
              "      <td>-1.688646</td>\n",
              "      <td>-1.813335</td>\n",
              "      <td>2.098207</td>\n",
              "      <td>1.759089</td>\n",
              "    </tr>\n",
              "    <tr>\n",
              "      <th>3</th>\n",
              "      <td>-1.633506</td>\n",
              "      <td>-0.629359</td>\n",
              "      <td>1.223233</td>\n",
              "      <td>-1.076141</td>\n",
              "      <td>-1.768418</td>\n",
              "      <td>-2.225344</td>\n",
              "      <td>0.457277</td>\n",
              "      <td>-1.687767</td>\n",
              "      <td>-1.807180</td>\n",
              "      <td>2.087416</td>\n",
              "      <td>1.782338</td>\n",
              "    </tr>\n",
              "    <tr>\n",
              "      <th>4</th>\n",
              "      <td>-1.587283</td>\n",
              "      <td>-0.541279</td>\n",
              "      <td>1.216155</td>\n",
              "      <td>-1.047895</td>\n",
              "      <td>-1.777159</td>\n",
              "      <td>-2.217023</td>\n",
              "      <td>0.455390</td>\n",
              "      <td>-1.687767</td>\n",
              "      <td>-1.799794</td>\n",
              "      <td>2.155438</td>\n",
              "      <td>1.741019</td>\n",
              "    </tr>\n",
              "    <tr>\n",
              "      <th>...</th>\n",
              "      <td>...</td>\n",
              "      <td>...</td>\n",
              "      <td>...</td>\n",
              "      <td>...</td>\n",
              "      <td>...</td>\n",
              "      <td>...</td>\n",
              "      <td>...</td>\n",
              "      <td>...</td>\n",
              "      <td>...</td>\n",
              "      <td>...</td>\n",
              "      <td>...</td>\n",
              "    </tr>\n",
              "    <tr>\n",
              "      <th>11347</th>\n",
              "      <td>-1.228486</td>\n",
              "      <td>-1.140225</td>\n",
              "      <td>0.391225</td>\n",
              "      <td>-0.562916</td>\n",
              "      <td>-1.212903</td>\n",
              "      <td>-1.409949</td>\n",
              "      <td>0.457277</td>\n",
              "      <td>-1.087882</td>\n",
              "      <td>-1.216312</td>\n",
              "      <td>2.647478</td>\n",
              "      <td>1.385946</td>\n",
              "    </tr>\n",
              "    <tr>\n",
              "      <th>11348</th>\n",
              "      <td>-1.198927</td>\n",
              "      <td>-1.140225</td>\n",
              "      <td>0.193983</td>\n",
              "      <td>-0.583894</td>\n",
              "      <td>-1.064959</td>\n",
              "      <td>-1.343386</td>\n",
              "      <td>0.306314</td>\n",
              "      <td>-0.890853</td>\n",
              "      <td>-1.091984</td>\n",
              "      <td>1.033737</td>\n",
              "      <td>1.431984</td>\n",
              "    </tr>\n",
              "    <tr>\n",
              "      <th>11349</th>\n",
              "      <td>-1.202182</td>\n",
              "      <td>-1.439697</td>\n",
              "      <td>1.562527</td>\n",
              "      <td>-0.415407</td>\n",
              "      <td>-1.310668</td>\n",
              "      <td>-1.568036</td>\n",
              "      <td>0.519550</td>\n",
              "      <td>-1.112511</td>\n",
              "      <td>-1.319714</td>\n",
              "      <td>1.465030</td>\n",
              "      <td>1.128014</td>\n",
              "    </tr>\n",
              "    <tr>\n",
              "      <th>11350</th>\n",
              "      <td>-1.187402</td>\n",
              "      <td>-1.386849</td>\n",
              "      <td>1.575038</td>\n",
              "      <td>0.310244</td>\n",
              "      <td>-0.390635</td>\n",
              "      <td>-0.170217</td>\n",
              "      <td>0.455390</td>\n",
              "      <td>-0.014775</td>\n",
              "      <td>-0.478958</td>\n",
              "      <td>-0.126644</td>\n",
              "      <td>0.847409</td>\n",
              "    </tr>\n",
              "    <tr>\n",
              "      <th>11351</th>\n",
              "      <td>-1.213435</td>\n",
              "      <td>-1.351617</td>\n",
              "      <td>1.561813</td>\n",
              "      <td>-0.706460</td>\n",
              "      <td>-1.753851</td>\n",
              "      <td>-2.217023</td>\n",
              "      <td>0.440294</td>\n",
              "      <td>-1.617399</td>\n",
              "      <td>-1.851495</td>\n",
              "      <td>2.314035</td>\n",
              "      <td>1.271885</td>\n",
              "    </tr>\n",
              "  </tbody>\n",
              "</table>\n",
              "<p>11352 rows × 11 columns</p>\n",
              "</div>\n",
              "      <button class=\"colab-df-convert\" onclick=\"convertToInteractive('df-c8d3067b-07e8-4bdf-b23f-5dc8a72bd2b8')\"\n",
              "              title=\"Convert this dataframe to an interactive table.\"\n",
              "              style=\"display:none;\">\n",
              "        \n",
              "  <svg xmlns=\"http://www.w3.org/2000/svg\" height=\"24px\"viewBox=\"0 0 24 24\"\n",
              "       width=\"24px\">\n",
              "    <path d=\"M0 0h24v24H0V0z\" fill=\"none\"/>\n",
              "    <path d=\"M18.56 5.44l.94 2.06.94-2.06 2.06-.94-2.06-.94-.94-2.06-.94 2.06-2.06.94zm-11 1L8.5 8.5l.94-2.06 2.06-.94-2.06-.94L8.5 2.5l-.94 2.06-2.06.94zm10 10l.94 2.06.94-2.06 2.06-.94-2.06-.94-.94-2.06-.94 2.06-2.06.94z\"/><path d=\"M17.41 7.96l-1.37-1.37c-.4-.4-.92-.59-1.43-.59-.52 0-1.04.2-1.43.59L10.3 9.45l-7.72 7.72c-.78.78-.78 2.05 0 2.83L4 21.41c.39.39.9.59 1.41.59.51 0 1.02-.2 1.41-.59l7.78-7.78 2.81-2.81c.8-.78.8-2.07 0-2.86zM5.41 20L4 18.59l7.72-7.72 1.47 1.35L5.41 20z\"/>\n",
              "  </svg>\n",
              "      </button>\n",
              "      \n",
              "  <style>\n",
              "    .colab-df-container {\n",
              "      display:flex;\n",
              "      flex-wrap:wrap;\n",
              "      gap: 12px;\n",
              "    }\n",
              "\n",
              "    .colab-df-convert {\n",
              "      background-color: #E8F0FE;\n",
              "      border: none;\n",
              "      border-radius: 50%;\n",
              "      cursor: pointer;\n",
              "      display: none;\n",
              "      fill: #1967D2;\n",
              "      height: 32px;\n",
              "      padding: 0 0 0 0;\n",
              "      width: 32px;\n",
              "    }\n",
              "\n",
              "    .colab-df-convert:hover {\n",
              "      background-color: #E2EBFA;\n",
              "      box-shadow: 0px 1px 2px rgba(60, 64, 67, 0.3), 0px 1px 3px 1px rgba(60, 64, 67, 0.15);\n",
              "      fill: #174EA6;\n",
              "    }\n",
              "\n",
              "    [theme=dark] .colab-df-convert {\n",
              "      background-color: #3B4455;\n",
              "      fill: #D2E3FC;\n",
              "    }\n",
              "\n",
              "    [theme=dark] .colab-df-convert:hover {\n",
              "      background-color: #434B5C;\n",
              "      box-shadow: 0px 1px 3px 1px rgba(0, 0, 0, 0.15);\n",
              "      filter: drop-shadow(0px 1px 2px rgba(0, 0, 0, 0.3));\n",
              "      fill: #FFFFFF;\n",
              "    }\n",
              "  </style>\n",
              "\n",
              "      <script>\n",
              "        const buttonEl =\n",
              "          document.querySelector('#df-c8d3067b-07e8-4bdf-b23f-5dc8a72bd2b8 button.colab-df-convert');\n",
              "        buttonEl.style.display =\n",
              "          google.colab.kernel.accessAllowed ? 'block' : 'none';\n",
              "\n",
              "        async function convertToInteractive(key) {\n",
              "          const element = document.querySelector('#df-c8d3067b-07e8-4bdf-b23f-5dc8a72bd2b8');\n",
              "          const dataTable =\n",
              "            await google.colab.kernel.invokeFunction('convertToInteractive',\n",
              "                                                     [key], {});\n",
              "          if (!dataTable) return;\n",
              "\n",
              "          const docLinkHtml = 'Like what you see? Visit the ' +\n",
              "            '<a target=\"_blank\" href=https://colab.research.google.com/notebooks/data_table.ipynb>data table notebook</a>'\n",
              "            + ' to learn more about interactive tables.';\n",
              "          element.innerHTML = '';\n",
              "          dataTable['output_type'] = 'display_data';\n",
              "          await google.colab.output.renderOutput(dataTable, element);\n",
              "          const docLink = document.createElement('div');\n",
              "          docLink.innerHTML = docLinkHtml;\n",
              "          element.appendChild(docLink);\n",
              "        }\n",
              "      </script>\n",
              "    </div>\n",
              "  </div>\n",
              "  "
            ]
          },
          "metadata": {},
          "execution_count": 16
        }
      ]
    },
    {
      "cell_type": "code",
      "source": [
        "# split the variables into X and Y\n",
        "X = df_new.drop(\"TEY\",axis=1)\n",
        "Y = df_cleaned[\"TEY\"]"
      ],
      "metadata": {
        "id": "IfSF2SACdbjr"
      },
      "execution_count": 17,
      "outputs": []
    },
    {
      "cell_type": "code",
      "source": [
        "X"
      ],
      "metadata": {
        "id": "h3fDn-aCfNC8",
        "colab": {
          "base_uri": "https://localhost:8080/",
          "height": 424
        },
        "outputId": "910ab6c7-293f-47c9-da61-ac2cdc70abac"
      },
      "execution_count": 18,
      "outputs": [
        {
          "output_type": "execute_result",
          "data": {
            "text/plain": [
              "             AT        AP        AH      AFDP      GTEP       TIT       TAT  \\\n",
              "0     -1.660285 -0.858368  1.334043 -1.043930 -1.810179 -2.258625  0.459165   \n",
              "1     -1.670373 -0.770287  1.356849 -1.044261 -1.789137 -2.250305  0.459165   \n",
              "2     -1.655092 -0.699823  1.272562 -1.073003 -1.772627 -2.241984  0.434633   \n",
              "3     -1.633506 -0.629359  1.223233 -1.076141 -1.768418 -2.225344  0.457277   \n",
              "4     -1.587283 -0.541279  1.216155 -1.047895 -1.777159 -2.217023  0.455390   \n",
              "...         ...       ...       ...       ...       ...       ...       ...   \n",
              "11347 -1.228486 -1.140225  0.391225 -0.562916 -1.212903 -1.409949  0.457277   \n",
              "11348 -1.198927 -1.140225  0.193983 -0.583894 -1.064959 -1.343386  0.306314   \n",
              "11349 -1.202182 -1.439697  1.562527 -0.415407 -1.310668 -1.568036  0.519550   \n",
              "11350 -1.187402 -1.386849  1.575038  0.310244 -0.390635 -0.170217  0.455390   \n",
              "11351 -1.213435 -1.351617  1.561813 -0.706460 -1.753851 -2.217023  0.440294   \n",
              "\n",
              "            CDP        CO       NOX  \n",
              "0     -1.808411  2.041825  1.788323  \n",
              "1     -1.817028  2.140766  1.794539  \n",
              "2     -1.813335  2.098207  1.759089  \n",
              "3     -1.807180  2.087416  1.782338  \n",
              "4     -1.799794  2.155438  1.741019  \n",
              "...         ...       ...       ...  \n",
              "11347 -1.216312  2.647478  1.385946  \n",
              "11348 -1.091984  1.033737  1.431984  \n",
              "11349 -1.319714  1.465030  1.128014  \n",
              "11350 -0.478958 -0.126644  0.847409  \n",
              "11351 -1.851495  2.314035  1.271885  \n",
              "\n",
              "[11352 rows x 10 columns]"
            ],
            "text/html": [
              "\n",
              "  <div id=\"df-4833e26f-0678-4ee5-b86e-1a1a9f917e28\">\n",
              "    <div class=\"colab-df-container\">\n",
              "      <div>\n",
              "<style scoped>\n",
              "    .dataframe tbody tr th:only-of-type {\n",
              "        vertical-align: middle;\n",
              "    }\n",
              "\n",
              "    .dataframe tbody tr th {\n",
              "        vertical-align: top;\n",
              "    }\n",
              "\n",
              "    .dataframe thead th {\n",
              "        text-align: right;\n",
              "    }\n",
              "</style>\n",
              "<table border=\"1\" class=\"dataframe\">\n",
              "  <thead>\n",
              "    <tr style=\"text-align: right;\">\n",
              "      <th></th>\n",
              "      <th>AT</th>\n",
              "      <th>AP</th>\n",
              "      <th>AH</th>\n",
              "      <th>AFDP</th>\n",
              "      <th>GTEP</th>\n",
              "      <th>TIT</th>\n",
              "      <th>TAT</th>\n",
              "      <th>CDP</th>\n",
              "      <th>CO</th>\n",
              "      <th>NOX</th>\n",
              "    </tr>\n",
              "  </thead>\n",
              "  <tbody>\n",
              "    <tr>\n",
              "      <th>0</th>\n",
              "      <td>-1.660285</td>\n",
              "      <td>-0.858368</td>\n",
              "      <td>1.334043</td>\n",
              "      <td>-1.043930</td>\n",
              "      <td>-1.810179</td>\n",
              "      <td>-2.258625</td>\n",
              "      <td>0.459165</td>\n",
              "      <td>-1.808411</td>\n",
              "      <td>2.041825</td>\n",
              "      <td>1.788323</td>\n",
              "    </tr>\n",
              "    <tr>\n",
              "      <th>1</th>\n",
              "      <td>-1.670373</td>\n",
              "      <td>-0.770287</td>\n",
              "      <td>1.356849</td>\n",
              "      <td>-1.044261</td>\n",
              "      <td>-1.789137</td>\n",
              "      <td>-2.250305</td>\n",
              "      <td>0.459165</td>\n",
              "      <td>-1.817028</td>\n",
              "      <td>2.140766</td>\n",
              "      <td>1.794539</td>\n",
              "    </tr>\n",
              "    <tr>\n",
              "      <th>2</th>\n",
              "      <td>-1.655092</td>\n",
              "      <td>-0.699823</td>\n",
              "      <td>1.272562</td>\n",
              "      <td>-1.073003</td>\n",
              "      <td>-1.772627</td>\n",
              "      <td>-2.241984</td>\n",
              "      <td>0.434633</td>\n",
              "      <td>-1.813335</td>\n",
              "      <td>2.098207</td>\n",
              "      <td>1.759089</td>\n",
              "    </tr>\n",
              "    <tr>\n",
              "      <th>3</th>\n",
              "      <td>-1.633506</td>\n",
              "      <td>-0.629359</td>\n",
              "      <td>1.223233</td>\n",
              "      <td>-1.076141</td>\n",
              "      <td>-1.768418</td>\n",
              "      <td>-2.225344</td>\n",
              "      <td>0.457277</td>\n",
              "      <td>-1.807180</td>\n",
              "      <td>2.087416</td>\n",
              "      <td>1.782338</td>\n",
              "    </tr>\n",
              "    <tr>\n",
              "      <th>4</th>\n",
              "      <td>-1.587283</td>\n",
              "      <td>-0.541279</td>\n",
              "      <td>1.216155</td>\n",
              "      <td>-1.047895</td>\n",
              "      <td>-1.777159</td>\n",
              "      <td>-2.217023</td>\n",
              "      <td>0.455390</td>\n",
              "      <td>-1.799794</td>\n",
              "      <td>2.155438</td>\n",
              "      <td>1.741019</td>\n",
              "    </tr>\n",
              "    <tr>\n",
              "      <th>...</th>\n",
              "      <td>...</td>\n",
              "      <td>...</td>\n",
              "      <td>...</td>\n",
              "      <td>...</td>\n",
              "      <td>...</td>\n",
              "      <td>...</td>\n",
              "      <td>...</td>\n",
              "      <td>...</td>\n",
              "      <td>...</td>\n",
              "      <td>...</td>\n",
              "    </tr>\n",
              "    <tr>\n",
              "      <th>11347</th>\n",
              "      <td>-1.228486</td>\n",
              "      <td>-1.140225</td>\n",
              "      <td>0.391225</td>\n",
              "      <td>-0.562916</td>\n",
              "      <td>-1.212903</td>\n",
              "      <td>-1.409949</td>\n",
              "      <td>0.457277</td>\n",
              "      <td>-1.216312</td>\n",
              "      <td>2.647478</td>\n",
              "      <td>1.385946</td>\n",
              "    </tr>\n",
              "    <tr>\n",
              "      <th>11348</th>\n",
              "      <td>-1.198927</td>\n",
              "      <td>-1.140225</td>\n",
              "      <td>0.193983</td>\n",
              "      <td>-0.583894</td>\n",
              "      <td>-1.064959</td>\n",
              "      <td>-1.343386</td>\n",
              "      <td>0.306314</td>\n",
              "      <td>-1.091984</td>\n",
              "      <td>1.033737</td>\n",
              "      <td>1.431984</td>\n",
              "    </tr>\n",
              "    <tr>\n",
              "      <th>11349</th>\n",
              "      <td>-1.202182</td>\n",
              "      <td>-1.439697</td>\n",
              "      <td>1.562527</td>\n",
              "      <td>-0.415407</td>\n",
              "      <td>-1.310668</td>\n",
              "      <td>-1.568036</td>\n",
              "      <td>0.519550</td>\n",
              "      <td>-1.319714</td>\n",
              "      <td>1.465030</td>\n",
              "      <td>1.128014</td>\n",
              "    </tr>\n",
              "    <tr>\n",
              "      <th>11350</th>\n",
              "      <td>-1.187402</td>\n",
              "      <td>-1.386849</td>\n",
              "      <td>1.575038</td>\n",
              "      <td>0.310244</td>\n",
              "      <td>-0.390635</td>\n",
              "      <td>-0.170217</td>\n",
              "      <td>0.455390</td>\n",
              "      <td>-0.478958</td>\n",
              "      <td>-0.126644</td>\n",
              "      <td>0.847409</td>\n",
              "    </tr>\n",
              "    <tr>\n",
              "      <th>11351</th>\n",
              "      <td>-1.213435</td>\n",
              "      <td>-1.351617</td>\n",
              "      <td>1.561813</td>\n",
              "      <td>-0.706460</td>\n",
              "      <td>-1.753851</td>\n",
              "      <td>-2.217023</td>\n",
              "      <td>0.440294</td>\n",
              "      <td>-1.851495</td>\n",
              "      <td>2.314035</td>\n",
              "      <td>1.271885</td>\n",
              "    </tr>\n",
              "  </tbody>\n",
              "</table>\n",
              "<p>11352 rows × 10 columns</p>\n",
              "</div>\n",
              "      <button class=\"colab-df-convert\" onclick=\"convertToInteractive('df-4833e26f-0678-4ee5-b86e-1a1a9f917e28')\"\n",
              "              title=\"Convert this dataframe to an interactive table.\"\n",
              "              style=\"display:none;\">\n",
              "        \n",
              "  <svg xmlns=\"http://www.w3.org/2000/svg\" height=\"24px\"viewBox=\"0 0 24 24\"\n",
              "       width=\"24px\">\n",
              "    <path d=\"M0 0h24v24H0V0z\" fill=\"none\"/>\n",
              "    <path d=\"M18.56 5.44l.94 2.06.94-2.06 2.06-.94-2.06-.94-.94-2.06-.94 2.06-2.06.94zm-11 1L8.5 8.5l.94-2.06 2.06-.94-2.06-.94L8.5 2.5l-.94 2.06-2.06.94zm10 10l.94 2.06.94-2.06 2.06-.94-2.06-.94-.94-2.06-.94 2.06-2.06.94z\"/><path d=\"M17.41 7.96l-1.37-1.37c-.4-.4-.92-.59-1.43-.59-.52 0-1.04.2-1.43.59L10.3 9.45l-7.72 7.72c-.78.78-.78 2.05 0 2.83L4 21.41c.39.39.9.59 1.41.59.51 0 1.02-.2 1.41-.59l7.78-7.78 2.81-2.81c.8-.78.8-2.07 0-2.86zM5.41 20L4 18.59l7.72-7.72 1.47 1.35L5.41 20z\"/>\n",
              "  </svg>\n",
              "      </button>\n",
              "      \n",
              "  <style>\n",
              "    .colab-df-container {\n",
              "      display:flex;\n",
              "      flex-wrap:wrap;\n",
              "      gap: 12px;\n",
              "    }\n",
              "\n",
              "    .colab-df-convert {\n",
              "      background-color: #E8F0FE;\n",
              "      border: none;\n",
              "      border-radius: 50%;\n",
              "      cursor: pointer;\n",
              "      display: none;\n",
              "      fill: #1967D2;\n",
              "      height: 32px;\n",
              "      padding: 0 0 0 0;\n",
              "      width: 32px;\n",
              "    }\n",
              "\n",
              "    .colab-df-convert:hover {\n",
              "      background-color: #E2EBFA;\n",
              "      box-shadow: 0px 1px 2px rgba(60, 64, 67, 0.3), 0px 1px 3px 1px rgba(60, 64, 67, 0.15);\n",
              "      fill: #174EA6;\n",
              "    }\n",
              "\n",
              "    [theme=dark] .colab-df-convert {\n",
              "      background-color: #3B4455;\n",
              "      fill: #D2E3FC;\n",
              "    }\n",
              "\n",
              "    [theme=dark] .colab-df-convert:hover {\n",
              "      background-color: #434B5C;\n",
              "      box-shadow: 0px 1px 3px 1px rgba(0, 0, 0, 0.15);\n",
              "      filter: drop-shadow(0px 1px 2px rgba(0, 0, 0, 0.3));\n",
              "      fill: #FFFFFF;\n",
              "    }\n",
              "  </style>\n",
              "\n",
              "      <script>\n",
              "        const buttonEl =\n",
              "          document.querySelector('#df-4833e26f-0678-4ee5-b86e-1a1a9f917e28 button.colab-df-convert');\n",
              "        buttonEl.style.display =\n",
              "          google.colab.kernel.accessAllowed ? 'block' : 'none';\n",
              "\n",
              "        async function convertToInteractive(key) {\n",
              "          const element = document.querySelector('#df-4833e26f-0678-4ee5-b86e-1a1a9f917e28');\n",
              "          const dataTable =\n",
              "            await google.colab.kernel.invokeFunction('convertToInteractive',\n",
              "                                                     [key], {});\n",
              "          if (!dataTable) return;\n",
              "\n",
              "          const docLinkHtml = 'Like what you see? Visit the ' +\n",
              "            '<a target=\"_blank\" href=https://colab.research.google.com/notebooks/data_table.ipynb>data table notebook</a>'\n",
              "            + ' to learn more about interactive tables.';\n",
              "          element.innerHTML = '';\n",
              "          dataTable['output_type'] = 'display_data';\n",
              "          await google.colab.output.renderOutput(dataTable, element);\n",
              "          const docLink = document.createElement('div');\n",
              "          docLink.innerHTML = docLinkHtml;\n",
              "          element.appendChild(docLink);\n",
              "        }\n",
              "      </script>\n",
              "    </div>\n",
              "  </div>\n",
              "  "
            ]
          },
          "metadata": {},
          "execution_count": 18
        }
      ]
    },
    {
      "cell_type": "code",
      "source": [
        "Y"
      ],
      "metadata": {
        "colab": {
          "base_uri": "https://localhost:8080/"
        },
        "id": "JSSc5NDkLYw-",
        "outputId": "517d4232-3880-4c7a-ccdf-9883bd3b5c4f"
      },
      "execution_count": 19,
      "outputs": [
        {
          "output_type": "execute_result",
          "data": {
            "text/plain": [
              "0        114.70\n",
              "1        114.72\n",
              "2        114.71\n",
              "3        114.72\n",
              "4        114.72\n",
              "          ...  \n",
              "15023    121.54\n",
              "15024    123.78\n",
              "15031    121.26\n",
              "15032    133.74\n",
              "15033    115.52\n",
              "Name: TEY, Length: 11352, dtype: float64"
            ]
          },
          "metadata": {},
          "execution_count": 19
        }
      ]
    },
    {
      "cell_type": "code",
      "source": [
        "# spliting the data into train and test\n",
        "from sklearn.model_selection import train_test_split\n",
        "X_train,X_test,Y_train,Y_test = train_test_split(X,Y,test_size=0.30,random_state=22) "
      ],
      "metadata": {
        "id": "khPrReGnLazS"
      },
      "execution_count": 20,
      "outputs": []
    },
    {
      "cell_type": "code",
      "source": [
        "X_train.shape, X_test.shape"
      ],
      "metadata": {
        "colab": {
          "base_uri": "https://localhost:8080/"
        },
        "id": "6q70js8dMi93",
        "outputId": "82c8eb90-038b-4d0f-dfbe-2f9bd979a74a"
      },
      "execution_count": 21,
      "outputs": [
        {
          "output_type": "execute_result",
          "data": {
            "text/plain": [
              "((7946, 10), (3406, 10))"
            ]
          },
          "metadata": {},
          "execution_count": 21
        }
      ]
    },
    {
      "cell_type": "code",
      "source": [
        "from tensorflow.keras.layers import Dense\n",
        "from tensorflow.keras.models import Sequential"
      ],
      "metadata": {
        "id": "97jLxKTgM5uE"
      },
      "execution_count": 22,
      "outputs": []
    },
    {
      "cell_type": "code",
      "source": [
        "model = Sequential()\n",
        "model.add(Dense(15,input_dim=10,activation=\"relu\"))\n",
        "model.add(Dense(10,activation=\"relu\"))\n",
        "model.add(Dense(1,activation=\"linear\"))"
      ],
      "metadata": {
        "id": "sCFlBN4cNi7w"
      },
      "execution_count": 119,
      "outputs": []
    },
    {
      "cell_type": "code",
      "source": [
        "# loss function\n",
        "model.compile(loss=\"mean_squared_error\",optimizer=\"RMSprop\",metrics=[\"mean_squared_error\"])\n",
        "\n",
        "# train the model\n",
        "history1 = model.fit(X_train,Y_train,validation_split=0.30, epochs=100, batch_size=20)"
      ],
      "metadata": {
        "colab": {
          "base_uri": "https://localhost:8080/"
        },
        "id": "vugOpXe4O3_I",
        "outputId": "4531c034-4dc1-42b9-b7c7-8293c2e1130e"
      },
      "execution_count": 120,
      "outputs": [
        {
          "output_type": "stream",
          "name": "stdout",
          "text": [
            "Epoch 1/100\n",
            "279/279 [==============================] - 1s 3ms/step - loss: 17140.3887 - mean_squared_error: 17140.3887 - val_loss: 15094.8623 - val_mean_squared_error: 15094.8623\n",
            "Epoch 2/100\n",
            "279/279 [==============================] - 1s 3ms/step - loss: 11265.5039 - mean_squared_error: 11265.5039 - val_loss: 6606.0615 - val_mean_squared_error: 6606.0615\n",
            "Epoch 3/100\n",
            "279/279 [==============================] - 1s 3ms/step - loss: 3476.4941 - mean_squared_error: 3476.4941 - val_loss: 1667.1682 - val_mean_squared_error: 1667.1682\n",
            "Epoch 4/100\n",
            "279/279 [==============================] - 1s 2ms/step - loss: 923.3831 - mean_squared_error: 923.3831 - val_loss: 487.8091 - val_mean_squared_error: 487.8091\n",
            "Epoch 5/100\n",
            "279/279 [==============================] - 1s 3ms/step - loss: 315.8560 - mean_squared_error: 315.8560 - val_loss: 218.1890 - val_mean_squared_error: 218.1890\n",
            "Epoch 6/100\n",
            "279/279 [==============================] - 1s 2ms/step - loss: 169.5915 - mean_squared_error: 169.5915 - val_loss: 139.4816 - val_mean_squared_error: 139.4816\n",
            "Epoch 7/100\n",
            "279/279 [==============================] - 1s 2ms/step - loss: 110.5045 - mean_squared_error: 110.5045 - val_loss: 94.4146 - val_mean_squared_error: 94.4146\n",
            "Epoch 8/100\n",
            "279/279 [==============================] - 1s 3ms/step - loss: 73.2640 - mean_squared_error: 73.2640 - val_loss: 60.8227 - val_mean_squared_error: 60.8227\n",
            "Epoch 9/100\n",
            "279/279 [==============================] - 1s 2ms/step - loss: 49.1861 - mean_squared_error: 49.1861 - val_loss: 40.5880 - val_mean_squared_error: 40.5880\n",
            "Epoch 10/100\n",
            "279/279 [==============================] - 1s 2ms/step - loss: 33.8509 - mean_squared_error: 33.8509 - val_loss: 28.4565 - val_mean_squared_error: 28.4565\n",
            "Epoch 11/100\n",
            "279/279 [==============================] - 1s 3ms/step - loss: 23.5115 - mean_squared_error: 23.5115 - val_loss: 19.8040 - val_mean_squared_error: 19.8040\n",
            "Epoch 12/100\n",
            "279/279 [==============================] - 1s 3ms/step - loss: 16.4639 - mean_squared_error: 16.4639 - val_loss: 13.9095 - val_mean_squared_error: 13.9095\n",
            "Epoch 13/100\n",
            "279/279 [==============================] - 1s 2ms/step - loss: 11.8468 - mean_squared_error: 11.8468 - val_loss: 12.4320 - val_mean_squared_error: 12.4320\n",
            "Epoch 14/100\n",
            "279/279 [==============================] - 1s 3ms/step - loss: 8.5021 - mean_squared_error: 8.5021 - val_loss: 7.0329 - val_mean_squared_error: 7.0329\n",
            "Epoch 15/100\n",
            "279/279 [==============================] - 1s 3ms/step - loss: 5.9964 - mean_squared_error: 5.9964 - val_loss: 5.0446 - val_mean_squared_error: 5.0446\n",
            "Epoch 16/100\n",
            "279/279 [==============================] - 1s 2ms/step - loss: 4.2936 - mean_squared_error: 4.2936 - val_loss: 5.1150 - val_mean_squared_error: 5.1150\n",
            "Epoch 17/100\n",
            "279/279 [==============================] - 1s 2ms/step - loss: 3.0228 - mean_squared_error: 3.0228 - val_loss: 2.7220 - val_mean_squared_error: 2.7220\n",
            "Epoch 18/100\n",
            "279/279 [==============================] - 1s 3ms/step - loss: 2.1708 - mean_squared_error: 2.1708 - val_loss: 2.9633 - val_mean_squared_error: 2.9633\n",
            "Epoch 19/100\n",
            "279/279 [==============================] - 1s 3ms/step - loss: 1.5988 - mean_squared_error: 1.5988 - val_loss: 1.7331 - val_mean_squared_error: 1.7331\n",
            "Epoch 20/100\n",
            "279/279 [==============================] - 1s 2ms/step - loss: 1.1601 - mean_squared_error: 1.1601 - val_loss: 1.3764 - val_mean_squared_error: 1.3764\n",
            "Epoch 21/100\n",
            "279/279 [==============================] - 1s 2ms/step - loss: 0.9178 - mean_squared_error: 0.9178 - val_loss: 1.3410 - val_mean_squared_error: 1.3410\n",
            "Epoch 22/100\n",
            "279/279 [==============================] - 1s 2ms/step - loss: 0.7917 - mean_squared_error: 0.7917 - val_loss: 1.1572 - val_mean_squared_error: 1.1572\n",
            "Epoch 23/100\n",
            "279/279 [==============================] - 1s 2ms/step - loss: 0.7438 - mean_squared_error: 0.7438 - val_loss: 0.8373 - val_mean_squared_error: 0.8373\n",
            "Epoch 24/100\n",
            "279/279 [==============================] - 1s 2ms/step - loss: 0.6823 - mean_squared_error: 0.6823 - val_loss: 1.0231 - val_mean_squared_error: 1.0231\n",
            "Epoch 25/100\n",
            "279/279 [==============================] - 1s 2ms/step - loss: 0.6402 - mean_squared_error: 0.6402 - val_loss: 0.9960 - val_mean_squared_error: 0.9960\n",
            "Epoch 26/100\n",
            "279/279 [==============================] - 1s 2ms/step - loss: 0.6441 - mean_squared_error: 0.6441 - val_loss: 0.5758 - val_mean_squared_error: 0.5758\n",
            "Epoch 27/100\n",
            "279/279 [==============================] - 1s 3ms/step - loss: 0.6331 - mean_squared_error: 0.6331 - val_loss: 1.4716 - val_mean_squared_error: 1.4716\n",
            "Epoch 28/100\n",
            "279/279 [==============================] - 1s 3ms/step - loss: 0.6209 - mean_squared_error: 0.6209 - val_loss: 1.1368 - val_mean_squared_error: 1.1368\n",
            "Epoch 29/100\n",
            "279/279 [==============================] - 1s 3ms/step - loss: 0.6192 - mean_squared_error: 0.6192 - val_loss: 0.8312 - val_mean_squared_error: 0.8312\n",
            "Epoch 30/100\n",
            "279/279 [==============================] - 1s 2ms/step - loss: 0.6162 - mean_squared_error: 0.6162 - val_loss: 0.9145 - val_mean_squared_error: 0.9145\n",
            "Epoch 31/100\n",
            "279/279 [==============================] - 1s 3ms/step - loss: 0.6048 - mean_squared_error: 0.6048 - val_loss: 0.9369 - val_mean_squared_error: 0.9369\n",
            "Epoch 32/100\n",
            "279/279 [==============================] - 1s 2ms/step - loss: 0.6092 - mean_squared_error: 0.6092 - val_loss: 0.7890 - val_mean_squared_error: 0.7890\n",
            "Epoch 33/100\n",
            "279/279 [==============================] - 1s 2ms/step - loss: 0.6072 - mean_squared_error: 0.6072 - val_loss: 1.1785 - val_mean_squared_error: 1.1785\n",
            "Epoch 34/100\n",
            "279/279 [==============================] - 1s 3ms/step - loss: 0.6114 - mean_squared_error: 0.6114 - val_loss: 0.6792 - val_mean_squared_error: 0.6792\n",
            "Epoch 35/100\n",
            "279/279 [==============================] - 1s 2ms/step - loss: 0.5979 - mean_squared_error: 0.5979 - val_loss: 0.5696 - val_mean_squared_error: 0.5696\n",
            "Epoch 36/100\n",
            "279/279 [==============================] - 1s 3ms/step - loss: 0.6027 - mean_squared_error: 0.6027 - val_loss: 0.5416 - val_mean_squared_error: 0.5416\n",
            "Epoch 37/100\n",
            "279/279 [==============================] - 1s 2ms/step - loss: 0.5912 - mean_squared_error: 0.5912 - val_loss: 0.7761 - val_mean_squared_error: 0.7761\n",
            "Epoch 38/100\n",
            "279/279 [==============================] - 1s 3ms/step - loss: 0.6021 - mean_squared_error: 0.6021 - val_loss: 0.5159 - val_mean_squared_error: 0.5159\n",
            "Epoch 39/100\n",
            "279/279 [==============================] - 1s 2ms/step - loss: 0.5838 - mean_squared_error: 0.5838 - val_loss: 0.9282 - val_mean_squared_error: 0.9282\n",
            "Epoch 40/100\n",
            "279/279 [==============================] - 1s 3ms/step - loss: 0.5818 - mean_squared_error: 0.5818 - val_loss: 1.1151 - val_mean_squared_error: 1.1151\n",
            "Epoch 41/100\n",
            "279/279 [==============================] - 1s 4ms/step - loss: 0.6019 - mean_squared_error: 0.6019 - val_loss: 0.5553 - val_mean_squared_error: 0.5553\n",
            "Epoch 42/100\n",
            "279/279 [==============================] - 1s 4ms/step - loss: 0.5911 - mean_squared_error: 0.5911 - val_loss: 0.5673 - val_mean_squared_error: 0.5673\n",
            "Epoch 43/100\n",
            "279/279 [==============================] - 1s 3ms/step - loss: 0.5856 - mean_squared_error: 0.5856 - val_loss: 0.5810 - val_mean_squared_error: 0.5810\n",
            "Epoch 44/100\n",
            "279/279 [==============================] - 1s 2ms/step - loss: 0.5952 - mean_squared_error: 0.5952 - val_loss: 1.0996 - val_mean_squared_error: 1.0996\n",
            "Epoch 45/100\n",
            "279/279 [==============================] - 1s 3ms/step - loss: 0.5956 - mean_squared_error: 0.5956 - val_loss: 1.5027 - val_mean_squared_error: 1.5027\n",
            "Epoch 46/100\n",
            "279/279 [==============================] - 1s 2ms/step - loss: 0.5900 - mean_squared_error: 0.5900 - val_loss: 2.0315 - val_mean_squared_error: 2.0315\n",
            "Epoch 47/100\n",
            "279/279 [==============================] - 1s 2ms/step - loss: 0.5889 - mean_squared_error: 0.5889 - val_loss: 0.5961 - val_mean_squared_error: 0.5961\n",
            "Epoch 48/100\n",
            "279/279 [==============================] - 1s 2ms/step - loss: 0.5874 - mean_squared_error: 0.5874 - val_loss: 1.7912 - val_mean_squared_error: 1.7912\n",
            "Epoch 49/100\n",
            "279/279 [==============================] - 1s 3ms/step - loss: 0.5891 - mean_squared_error: 0.5891 - val_loss: 1.0235 - val_mean_squared_error: 1.0235\n",
            "Epoch 50/100\n",
            "279/279 [==============================] - 1s 2ms/step - loss: 0.5859 - mean_squared_error: 0.5859 - val_loss: 0.5535 - val_mean_squared_error: 0.5535\n",
            "Epoch 51/100\n",
            "279/279 [==============================] - 1s 2ms/step - loss: 0.5828 - mean_squared_error: 0.5828 - val_loss: 0.6292 - val_mean_squared_error: 0.6292\n",
            "Epoch 52/100\n",
            "279/279 [==============================] - 1s 3ms/step - loss: 0.5810 - mean_squared_error: 0.5810 - val_loss: 1.1633 - val_mean_squared_error: 1.1633\n",
            "Epoch 53/100\n",
            "279/279 [==============================] - 1s 2ms/step - loss: 0.5896 - mean_squared_error: 0.5896 - val_loss: 1.6324 - val_mean_squared_error: 1.6324\n",
            "Epoch 54/100\n",
            "279/279 [==============================] - 1s 3ms/step - loss: 0.5834 - mean_squared_error: 0.5834 - val_loss: 0.8862 - val_mean_squared_error: 0.8862\n",
            "Epoch 55/100\n",
            "279/279 [==============================] - 1s 2ms/step - loss: 0.5850 - mean_squared_error: 0.5850 - val_loss: 0.8130 - val_mean_squared_error: 0.8130\n",
            "Epoch 56/100\n",
            "279/279 [==============================] - 1s 3ms/step - loss: 0.5938 - mean_squared_error: 0.5938 - val_loss: 1.4035 - val_mean_squared_error: 1.4035\n",
            "Epoch 57/100\n",
            "279/279 [==============================] - 1s 2ms/step - loss: 0.5789 - mean_squared_error: 0.5789 - val_loss: 0.6653 - val_mean_squared_error: 0.6653\n",
            "Epoch 58/100\n",
            "279/279 [==============================] - 1s 2ms/step - loss: 0.5933 - mean_squared_error: 0.5933 - val_loss: 1.4284 - val_mean_squared_error: 1.4284\n",
            "Epoch 59/100\n",
            "279/279 [==============================] - 1s 2ms/step - loss: 0.5788 - mean_squared_error: 0.5788 - val_loss: 0.9475 - val_mean_squared_error: 0.9475\n",
            "Epoch 60/100\n",
            "279/279 [==============================] - 1s 3ms/step - loss: 0.5936 - mean_squared_error: 0.5936 - val_loss: 1.3558 - val_mean_squared_error: 1.3558\n",
            "Epoch 61/100\n",
            "279/279 [==============================] - 1s 2ms/step - loss: 0.5918 - mean_squared_error: 0.5918 - val_loss: 0.7299 - val_mean_squared_error: 0.7299\n",
            "Epoch 62/100\n",
            "279/279 [==============================] - 1s 2ms/step - loss: 0.5841 - mean_squared_error: 0.5841 - val_loss: 0.6777 - val_mean_squared_error: 0.6777\n",
            "Epoch 63/100\n",
            "279/279 [==============================] - 1s 3ms/step - loss: 0.5812 - mean_squared_error: 0.5812 - val_loss: 0.9543 - val_mean_squared_error: 0.9543\n",
            "Epoch 64/100\n",
            "279/279 [==============================] - 1s 2ms/step - loss: 0.5820 - mean_squared_error: 0.5820 - val_loss: 0.5577 - val_mean_squared_error: 0.5577\n",
            "Epoch 65/100\n",
            "279/279 [==============================] - 1s 2ms/step - loss: 0.5871 - mean_squared_error: 0.5871 - val_loss: 0.7258 - val_mean_squared_error: 0.7258\n",
            "Epoch 66/100\n",
            "279/279 [==============================] - 1s 3ms/step - loss: 0.5931 - mean_squared_error: 0.5931 - val_loss: 0.8251 - val_mean_squared_error: 0.8251\n",
            "Epoch 67/100\n",
            "279/279 [==============================] - 1s 2ms/step - loss: 0.5877 - mean_squared_error: 0.5877 - val_loss: 1.2070 - val_mean_squared_error: 1.2070\n",
            "Epoch 68/100\n",
            "279/279 [==============================] - 1s 2ms/step - loss: 0.5881 - mean_squared_error: 0.5881 - val_loss: 0.6587 - val_mean_squared_error: 0.6587\n",
            "Epoch 69/100\n",
            "279/279 [==============================] - 1s 3ms/step - loss: 0.5955 - mean_squared_error: 0.5955 - val_loss: 1.4466 - val_mean_squared_error: 1.4466\n",
            "Epoch 70/100\n",
            "279/279 [==============================] - 1s 2ms/step - loss: 0.5878 - mean_squared_error: 0.5878 - val_loss: 0.8862 - val_mean_squared_error: 0.8862\n",
            "Epoch 71/100\n",
            "279/279 [==============================] - 1s 3ms/step - loss: 0.5713 - mean_squared_error: 0.5713 - val_loss: 0.9171 - val_mean_squared_error: 0.9171\n",
            "Epoch 72/100\n",
            "279/279 [==============================] - 1s 2ms/step - loss: 0.5808 - mean_squared_error: 0.5808 - val_loss: 1.4636 - val_mean_squared_error: 1.4636\n",
            "Epoch 73/100\n",
            "279/279 [==============================] - 1s 2ms/step - loss: 0.5765 - mean_squared_error: 0.5765 - val_loss: 1.0228 - val_mean_squared_error: 1.0228\n",
            "Epoch 74/100\n",
            "279/279 [==============================] - 1s 2ms/step - loss: 0.5800 - mean_squared_error: 0.5800 - val_loss: 0.5502 - val_mean_squared_error: 0.5502\n",
            "Epoch 75/100\n",
            "279/279 [==============================] - 1s 2ms/step - loss: 0.5814 - mean_squared_error: 0.5814 - val_loss: 0.6817 - val_mean_squared_error: 0.6817\n",
            "Epoch 76/100\n",
            "279/279 [==============================] - 1s 2ms/step - loss: 0.5810 - mean_squared_error: 0.5810 - val_loss: 2.3264 - val_mean_squared_error: 2.3264\n",
            "Epoch 77/100\n",
            "279/279 [==============================] - 1s 3ms/step - loss: 0.5710 - mean_squared_error: 0.5710 - val_loss: 0.5888 - val_mean_squared_error: 0.5888\n",
            "Epoch 78/100\n",
            "279/279 [==============================] - 1s 3ms/step - loss: 0.5898 - mean_squared_error: 0.5898 - val_loss: 0.7496 - val_mean_squared_error: 0.7496\n",
            "Epoch 79/100\n",
            "279/279 [==============================] - 1s 3ms/step - loss: 0.5919 - mean_squared_error: 0.5919 - val_loss: 0.8411 - val_mean_squared_error: 0.8411\n",
            "Epoch 80/100\n",
            "279/279 [==============================] - 1s 3ms/step - loss: 0.5844 - mean_squared_error: 0.5844 - val_loss: 1.3591 - val_mean_squared_error: 1.3591\n",
            "Epoch 81/100\n",
            "279/279 [==============================] - 1s 3ms/step - loss: 0.5761 - mean_squared_error: 0.5761 - val_loss: 0.9570 - val_mean_squared_error: 0.9570\n",
            "Epoch 82/100\n",
            "279/279 [==============================] - 1s 3ms/step - loss: 0.5875 - mean_squared_error: 0.5875 - val_loss: 1.0165 - val_mean_squared_error: 1.0165\n",
            "Epoch 83/100\n",
            "279/279 [==============================] - 1s 2ms/step - loss: 0.5787 - mean_squared_error: 0.5787 - val_loss: 0.5904 - val_mean_squared_error: 0.5904\n",
            "Epoch 84/100\n",
            "279/279 [==============================] - 1s 3ms/step - loss: 0.5869 - mean_squared_error: 0.5869 - val_loss: 0.7092 - val_mean_squared_error: 0.7092\n",
            "Epoch 85/100\n",
            "279/279 [==============================] - 1s 3ms/step - loss: 0.5822 - mean_squared_error: 0.5822 - val_loss: 2.6429 - val_mean_squared_error: 2.6429\n",
            "Epoch 86/100\n",
            "279/279 [==============================] - 1s 2ms/step - loss: 0.5786 - mean_squared_error: 0.5786 - val_loss: 0.7793 - val_mean_squared_error: 0.7793\n",
            "Epoch 87/100\n",
            "279/279 [==============================] - 1s 3ms/step - loss: 0.5812 - mean_squared_error: 0.5812 - val_loss: 0.7989 - val_mean_squared_error: 0.7989\n",
            "Epoch 88/100\n",
            "279/279 [==============================] - 1s 3ms/step - loss: 0.5811 - mean_squared_error: 0.5811 - val_loss: 0.5126 - val_mean_squared_error: 0.5126\n",
            "Epoch 89/100\n",
            "279/279 [==============================] - 1s 3ms/step - loss: 0.5743 - mean_squared_error: 0.5743 - val_loss: 0.6621 - val_mean_squared_error: 0.6621\n",
            "Epoch 90/100\n",
            "279/279 [==============================] - 1s 2ms/step - loss: 0.5827 - mean_squared_error: 0.5827 - val_loss: 0.8144 - val_mean_squared_error: 0.8144\n",
            "Epoch 91/100\n",
            "279/279 [==============================] - 1s 3ms/step - loss: 0.5780 - mean_squared_error: 0.5780 - val_loss: 0.7827 - val_mean_squared_error: 0.7827\n",
            "Epoch 92/100\n",
            "279/279 [==============================] - 1s 3ms/step - loss: 0.5817 - mean_squared_error: 0.5817 - val_loss: 1.2911 - val_mean_squared_error: 1.2911\n",
            "Epoch 93/100\n",
            "279/279 [==============================] - 1s 2ms/step - loss: 0.5910 - mean_squared_error: 0.5910 - val_loss: 1.6162 - val_mean_squared_error: 1.6162\n",
            "Epoch 94/100\n",
            "279/279 [==============================] - 1s 3ms/step - loss: 0.5890 - mean_squared_error: 0.5890 - val_loss: 0.7946 - val_mean_squared_error: 0.7946\n",
            "Epoch 95/100\n",
            "279/279 [==============================] - 1s 2ms/step - loss: 0.5669 - mean_squared_error: 0.5669 - val_loss: 0.5881 - val_mean_squared_error: 0.5881\n",
            "Epoch 96/100\n",
            "279/279 [==============================] - 1s 3ms/step - loss: 0.5832 - mean_squared_error: 0.5832 - val_loss: 0.6162 - val_mean_squared_error: 0.6162\n",
            "Epoch 97/100\n",
            "279/279 [==============================] - 1s 3ms/step - loss: 0.5762 - mean_squared_error: 0.5762 - val_loss: 1.4272 - val_mean_squared_error: 1.4272\n",
            "Epoch 98/100\n",
            "279/279 [==============================] - 1s 5ms/step - loss: 0.5722 - mean_squared_error: 0.5722 - val_loss: 0.9282 - val_mean_squared_error: 0.9282\n",
            "Epoch 99/100\n",
            "279/279 [==============================] - 1s 5ms/step - loss: 0.5784 - mean_squared_error: 0.5784 - val_loss: 0.5615 - val_mean_squared_error: 0.5615\n",
            "Epoch 100/100\n",
            "279/279 [==============================] - 1s 5ms/step - loss: 0.5759 - mean_squared_error: 0.5759 - val_loss: 1.1211 - val_mean_squared_error: 1.1211\n"
          ]
        }
      ]
    },
    {
      "cell_type": "code",
      "source": [
        "model.evaluate(X_train,Y_train)"
      ],
      "metadata": {
        "colab": {
          "base_uri": "https://localhost:8080/"
        },
        "id": "SOqh0lgeXSHk",
        "outputId": "db47003a-9eb1-46ab-c9b1-79a09e63d5ac"
      },
      "execution_count": 121,
      "outputs": [
        {
          "output_type": "stream",
          "name": "stdout",
          "text": [
            "249/249 [==============================] - 0s 2ms/step - loss: 1.0976 - mean_squared_error: 1.0976\n"
          ]
        },
        {
          "output_type": "execute_result",
          "data": {
            "text/plain": [
              "[1.0976226329803467, 1.0976226329803467]"
            ]
          },
          "metadata": {},
          "execution_count": 121
        }
      ]
    },
    {
      "cell_type": "code",
      "source": [
        "model.evaluate(X_test,Y_test)"
      ],
      "metadata": {
        "colab": {
          "base_uri": "https://localhost:8080/"
        },
        "id": "wHXYHK0rhga3",
        "outputId": "dcfd41ca-bfd6-43e8-a56a-7e56c66c8c4a"
      },
      "execution_count": 122,
      "outputs": [
        {
          "output_type": "stream",
          "name": "stdout",
          "text": [
            "107/107 [==============================] - 0s 2ms/step - loss: 1.0599 - mean_squared_error: 1.0599\n"
          ]
        },
        {
          "output_type": "execute_result",
          "data": {
            "text/plain": [
              "[1.0598745346069336, 1.0598745346069336]"
            ]
          },
          "metadata": {},
          "execution_count": 122
        }
      ]
    },
    {
      "cell_type": "code",
      "source": [
        "Y_pred = model.predict(X_test)\n",
        "print(Y_pred[:10])"
      ],
      "metadata": {
        "colab": {
          "base_uri": "https://localhost:8080/"
        },
        "id": "VQkjKIBWhqtn",
        "outputId": "e3add4cd-3442-41e1-d60f-359cc02250f5"
      },
      "execution_count": 123,
      "outputs": [
        {
          "output_type": "stream",
          "name": "stdout",
          "text": [
            "107/107 [==============================] - 0s 1ms/step\n",
            "[[145.3136 ]\n",
            " [135.15854]\n",
            " [149.91211]\n",
            " [114.09246]\n",
            " [136.3378 ]\n",
            " [141.07654]\n",
            " [129.05331]\n",
            " [135.08334]\n",
            " [153.43944]\n",
            " [134.84601]]\n"
          ]
        }
      ]
    },
    {
      "cell_type": "code",
      "source": [
        "Y_test[:10]"
      ],
      "metadata": {
        "colab": {
          "base_uri": "https://localhost:8080/"
        },
        "id": "kAaI9_nLnfbI",
        "outputId": "befe5d2b-56bb-4d53-898d-97a7f6c08d3b"
      },
      "execution_count": 124,
      "outputs": [
        {
          "output_type": "execute_result",
          "data": {
            "text/plain": [
              "11915    144.08\n",
              "8700     135.20\n",
              "13030    149.67\n",
              "12135    112.53\n",
              "13055    135.76\n",
              "8662     141.63\n",
              "13963    128.32\n",
              "14630    134.69\n",
              "13506    152.03\n",
              "8027     134.12\n",
              "Name: TEY, dtype: float64"
            ]
          },
          "metadata": {},
          "execution_count": 124
        }
      ]
    },
    {
      "cell_type": "code",
      "source": [
        "history1.history.keys()"
      ],
      "metadata": {
        "colab": {
          "base_uri": "https://localhost:8080/"
        },
        "id": "v2ibUX4J_t5n",
        "outputId": "05a58564-3a1f-46c8-fcb1-c08e5d1f2450"
      },
      "execution_count": 125,
      "outputs": [
        {
          "output_type": "execute_result",
          "data": {
            "text/plain": [
              "dict_keys(['loss', 'mean_squared_error', 'val_loss', 'val_mean_squared_error'])"
            ]
          },
          "metadata": {},
          "execution_count": 125
        }
      ]
    },
    {
      "cell_type": "code",
      "source": [
        "import matplotlib.pyplot as plt\n",
        "plt.plot(history1.history[\"mean_squared_error\"])\n",
        "plt.plot(history1.history[\"val_mean_squared_error\"])\n",
        "plt.title(\"model MSE\")\n",
        "plt.ylabel(\"mse\")\n",
        "plt.xlabel(\"epoch\")\n",
        "plt.legend([\"train\",\"test\"],loc=\"upper left\")\n",
        "plt.show()"
      ],
      "metadata": {
        "colab": {
          "base_uri": "https://localhost:8080/",
          "height": 295
        },
        "id": "sWv3EN3OAYbL",
        "outputId": "ea79ad4f-30ac-493b-9240-dbe4389faa68"
      },
      "execution_count": 126,
      "outputs": [
        {
          "output_type": "display_data",
          "data": {
            "text/plain": [
              "<Figure size 432x288 with 1 Axes>"
            ],
            "image/png": "[encoded data removed]"
          },
          "metadata": {
            "needs_background": "light"
          }
        }
      ]
    },
    {
      "cell_type": "code",
      "source": [
        "# Dropout the layers\n",
        "from tensorflow.keras.layers import Dropout\n",
        "from tensorflow.keras.models import Sequential"
      ],
      "metadata": {
        "id": "2OtvX_thCDly"
      },
      "execution_count": 127,
      "outputs": []
    },
    {
      "cell_type": "code",
      "source": [
        "modeld = Sequential()\n",
        "modeld.add(Dense(15,input_dim=10,activation=\"relu\"))\n",
        "modeld.add(Dropout(0.5))\n",
        "modeld.add(Dense(10,activation=\"relu\"))\n",
        "modeld.add(Dropout(0.5))\n",
        "modeld.add(Dense(1,activation=\"linear\"))"
      ],
      "metadata": {
        "id": "TVXORHiRCvV1"
      },
      "execution_count": 129,
      "outputs": []
    },
    {
      "cell_type": "code",
      "source": [
        "# loss function\n",
        "modeld.compile(loss=\"mean_squared_error\",optimizer=\"RMSprop\",metrics=[\"mean_squared_error\"])\n",
        "\n",
        "# train the model\n",
        "history2 = modeld.fit(X_train,Y_train,validation_split=0.30, epochs=100, batch_size=20)"
      ],
      "metadata": {
        "colab": {
          "base_uri": "https://localhost:8080/"
        },
        "id": "L28ZJtbGC534",
        "outputId": "caba2a8a-f908-495f-cbde-002ebef88123"
      },
      "execution_count": 130,
      "outputs": [
        {
          "output_type": "stream",
          "name": "stdout",
          "text": [
            "Epoch 1/100\n",
            "279/279 [==============================] - 1s 3ms/step - loss: 17340.7168 - mean_squared_error: 17340.7168 - val_loss: 16023.8184 - val_mean_squared_error: 16023.8184\n",
            "Epoch 2/100\n",
            "279/279 [==============================] - 1s 3ms/step - loss: 13837.2402 - mean_squared_error: 13837.2402 - val_loss: 10288.1104 - val_mean_squared_error: 10288.1104\n",
            "Epoch 3/100\n",
            "279/279 [==============================] - 1s 3ms/step - loss: 8507.4277 - mean_squared_error: 8507.4277 - val_loss: 4246.0044 - val_mean_squared_error: 4246.0044\n",
            "Epoch 4/100\n",
            "279/279 [==============================] - 1s 2ms/step - loss: 6185.7051 - mean_squared_error: 6185.7051 - val_loss: 2493.6208 - val_mean_squared_error: 2493.6208\n",
            "Epoch 5/100\n",
            "279/279 [==============================] - 1s 2ms/step - loss: 5525.4429 - mean_squared_error: 5525.4429 - val_loss: 1878.6573 - val_mean_squared_error: 1878.6573\n",
            "Epoch 6/100\n",
            "279/279 [==============================] - 1s 5ms/step - loss: 4877.9849 - mean_squared_error: 4877.9849 - val_loss: 1395.3708 - val_mean_squared_error: 1395.3708\n",
            "Epoch 7/100\n",
            "279/279 [==============================] - 1s 2ms/step - loss: 4457.9526 - mean_squared_error: 4457.9526 - val_loss: 1240.9056 - val_mean_squared_error: 1240.9056\n",
            "Epoch 8/100\n",
            "279/279 [==============================] - 1s 2ms/step - loss: 4176.3359 - mean_squared_error: 4176.3359 - val_loss: 1031.5736 - val_mean_squared_error: 1031.5736\n",
            "Epoch 9/100\n",
            "279/279 [==============================] - 1s 2ms/step - loss: 3967.0442 - mean_squared_error: 3967.0442 - val_loss: 888.5257 - val_mean_squared_error: 888.5257\n",
            "Epoch 10/100\n",
            "279/279 [==============================] - 1s 2ms/step - loss: 3823.9126 - mean_squared_error: 3823.9126 - val_loss: 797.7822 - val_mean_squared_error: 797.7822\n",
            "Epoch 11/100\n",
            "279/279 [==============================] - 1s 2ms/step - loss: 3595.7483 - mean_squared_error: 3595.7483 - val_loss: 827.1907 - val_mean_squared_error: 827.1907\n",
            "Epoch 12/100\n",
            "279/279 [==============================] - 1s 3ms/step - loss: 3639.8989 - mean_squared_error: 3639.8989 - val_loss: 749.7678 - val_mean_squared_error: 749.7678\n",
            "Epoch 13/100\n",
            "279/279 [==============================] - 1s 3ms/step - loss: 3584.3047 - mean_squared_error: 3584.3047 - val_loss: 786.9984 - val_mean_squared_error: 786.9984\n",
            "Epoch 14/100\n",
            "279/279 [==============================] - 1s 3ms/step - loss: 3564.3530 - mean_squared_error: 3564.3530 - val_loss: 661.5014 - val_mean_squared_error: 661.5014\n",
            "Epoch 15/100\n",
            "279/279 [==============================] - 1s 2ms/step - loss: 3487.4143 - mean_squared_error: 3487.4146 - val_loss: 693.1537 - val_mean_squared_error: 693.1537\n",
            "Epoch 16/100\n",
            "279/279 [==============================] - 1s 2ms/step - loss: 3424.5637 - mean_squared_error: 3424.5637 - val_loss: 805.0091 - val_mean_squared_error: 805.0091\n",
            "Epoch 17/100\n",
            "279/279 [==============================] - 1s 2ms/step - loss: 3314.5771 - mean_squared_error: 3314.5771 - val_loss: 763.3964 - val_mean_squared_error: 763.3964\n",
            "Epoch 18/100\n",
            "279/279 [==============================] - 1s 2ms/step - loss: 3373.8279 - mean_squared_error: 3373.8279 - val_loss: 651.4991 - val_mean_squared_error: 651.4991\n",
            "Epoch 19/100\n",
            "279/279 [==============================] - 1s 2ms/step - loss: 3283.5420 - mean_squared_error: 3283.5420 - val_loss: 616.4730 - val_mean_squared_error: 616.4730\n",
            "Epoch 20/100\n",
            "279/279 [==============================] - 1s 2ms/step - loss: 3154.8188 - mean_squared_error: 3154.8188 - val_loss: 522.0266 - val_mean_squared_error: 522.0266\n",
            "Epoch 21/100\n",
            "279/279 [==============================] - 1s 2ms/step - loss: 3257.3582 - mean_squared_error: 3257.3582 - val_loss: 654.7702 - val_mean_squared_error: 654.7701\n",
            "Epoch 22/100\n",
            "279/279 [==============================] - 1s 2ms/step - loss: 3104.1348 - mean_squared_error: 3104.1348 - val_loss: 644.8575 - val_mean_squared_error: 644.8575\n",
            "Epoch 23/100\n",
            "279/279 [==============================] - 1s 2ms/step - loss: 2971.8481 - mean_squared_error: 2971.8481 - val_loss: 585.8221 - val_mean_squared_error: 585.8221\n",
            "Epoch 24/100\n",
            "279/279 [==============================] - 1s 3ms/step - loss: 3066.4614 - mean_squared_error: 3066.4614 - val_loss: 595.8901 - val_mean_squared_error: 595.8901\n",
            "Epoch 25/100\n",
            "279/279 [==============================] - 1s 2ms/step - loss: 2989.5598 - mean_squared_error: 2989.5598 - val_loss: 620.6671 - val_mean_squared_error: 620.6671\n",
            "Epoch 26/100\n",
            "279/279 [==============================] - 1s 2ms/step - loss: 3004.7698 - mean_squared_error: 3004.7698 - val_loss: 490.7081 - val_mean_squared_error: 490.7081\n",
            "Epoch 27/100\n",
            "279/279 [==============================] - 1s 2ms/step - loss: 2927.0298 - mean_squared_error: 2927.0298 - val_loss: 475.8323 - val_mean_squared_error: 475.8322\n",
            "Epoch 28/100\n",
            "279/279 [==============================] - 1s 2ms/step - loss: 2859.3645 - mean_squared_error: 2859.3645 - val_loss: 511.5052 - val_mean_squared_error: 511.5052\n",
            "Epoch 29/100\n",
            "279/279 [==============================] - 1s 3ms/step - loss: 2809.7759 - mean_squared_error: 2809.7759 - val_loss: 589.8271 - val_mean_squared_error: 589.8271\n",
            "Epoch 30/100\n",
            "279/279 [==============================] - 1s 3ms/step - loss: 2787.0869 - mean_squared_error: 2787.0869 - val_loss: 487.4569 - val_mean_squared_error: 487.4569\n",
            "Epoch 31/100\n",
            "279/279 [==============================] - 1s 2ms/step - loss: 2696.7729 - mean_squared_error: 2696.7729 - val_loss: 467.1172 - val_mean_squared_error: 467.1172\n",
            "Epoch 32/100\n",
            "279/279 [==============================] - 1s 3ms/step - loss: 2772.1123 - mean_squared_error: 2772.1123 - val_loss: 560.4077 - val_mean_squared_error: 560.4077\n",
            "Epoch 33/100\n",
            "279/279 [==============================] - 1s 2ms/step - loss: 2617.6458 - mean_squared_error: 2617.6458 - val_loss: 498.1033 - val_mean_squared_error: 498.1033\n",
            "Epoch 34/100\n",
            "279/279 [==============================] - 1s 2ms/step - loss: 2679.0657 - mean_squared_error: 2679.0657 - val_loss: 551.6324 - val_mean_squared_error: 551.6325\n",
            "Epoch 35/100\n",
            "279/279 [==============================] - 1s 2ms/step - loss: 2676.1184 - mean_squared_error: 2676.1184 - val_loss: 515.2342 - val_mean_squared_error: 515.2341\n",
            "Epoch 36/100\n",
            "279/279 [==============================] - 1s 3ms/step - loss: 2508.7432 - mean_squared_error: 2508.7432 - val_loss: 344.5721 - val_mean_squared_error: 344.5721\n",
            "Epoch 37/100\n",
            "279/279 [==============================] - 1s 2ms/step - loss: 2649.1199 - mean_squared_error: 2649.1199 - val_loss: 501.8340 - val_mean_squared_error: 501.8340\n",
            "Epoch 38/100\n",
            "279/279 [==============================] - 1s 2ms/step - loss: 2571.9868 - mean_squared_error: 2571.9868 - val_loss: 519.6141 - val_mean_squared_error: 519.6141\n",
            "Epoch 39/100\n",
            "279/279 [==============================] - 1s 2ms/step - loss: 2575.3181 - mean_squared_error: 2575.3181 - val_loss: 455.9791 - val_mean_squared_error: 455.9791\n",
            "Epoch 40/100\n",
            "279/279 [==============================] - 1s 2ms/step - loss: 2415.9500 - mean_squared_error: 2415.9500 - val_loss: 520.9650 - val_mean_squared_error: 520.9650\n",
            "Epoch 41/100\n",
            "279/279 [==============================] - 1s 3ms/step - loss: 2403.5398 - mean_squared_error: 2403.5398 - val_loss: 450.3329 - val_mean_squared_error: 450.3329\n",
            "Epoch 42/100\n",
            "279/279 [==============================] - 1s 2ms/step - loss: 2502.1443 - mean_squared_error: 2502.1448 - val_loss: 394.1179 - val_mean_squared_error: 394.1179\n",
            "Epoch 43/100\n",
            "279/279 [==============================] - 1s 2ms/step - loss: 2426.5945 - mean_squared_error: 2426.5945 - val_loss: 389.5273 - val_mean_squared_error: 389.5273\n",
            "Epoch 44/100\n",
            "279/279 [==============================] - 1s 3ms/step - loss: 2364.8679 - mean_squared_error: 2364.8679 - val_loss: 429.5043 - val_mean_squared_error: 429.5043\n",
            "Epoch 45/100\n",
            "279/279 [==============================] - 1s 2ms/step - loss: 2381.4326 - mean_squared_error: 2381.4326 - val_loss: 395.3473 - val_mean_squared_error: 395.3473\n",
            "Epoch 46/100\n",
            "279/279 [==============================] - 1s 2ms/step - loss: 2414.8525 - mean_squared_error: 2414.8525 - val_loss: 412.2803 - val_mean_squared_error: 412.2803\n",
            "Epoch 47/100\n",
            "279/279 [==============================] - 1s 3ms/step - loss: 2351.2661 - mean_squared_error: 2351.2661 - val_loss: 381.9977 - val_mean_squared_error: 381.9977\n",
            "Epoch 48/100\n",
            "279/279 [==============================] - 1s 2ms/step - loss: 2298.2573 - mean_squared_error: 2298.2573 - val_loss: 363.3593 - val_mean_squared_error: 363.3593\n",
            "Epoch 49/100\n",
            "279/279 [==============================] - 1s 3ms/step - loss: 2366.2119 - mean_squared_error: 2366.2119 - val_loss: 392.7462 - val_mean_squared_error: 392.7462\n",
            "Epoch 50/100\n",
            "279/279 [==============================] - 1s 3ms/step - loss: 2226.4575 - mean_squared_error: 2226.4575 - val_loss: 378.5203 - val_mean_squared_error: 378.5203\n",
            "Epoch 51/100\n",
            "279/279 [==============================] - 1s 2ms/step - loss: 2351.2112 - mean_squared_error: 2351.2112 - val_loss: 363.0240 - val_mean_squared_error: 363.0240\n",
            "Epoch 52/100\n",
            "279/279 [==============================] - 1s 2ms/step - loss: 2149.2361 - mean_squared_error: 2149.2361 - val_loss: 379.9976 - val_mean_squared_error: 379.9976\n",
            "Epoch 53/100\n",
            "279/279 [==============================] - 1s 2ms/step - loss: 2202.3645 - mean_squared_error: 2202.3645 - val_loss: 331.6436 - val_mean_squared_error: 331.6436\n",
            "Epoch 54/100\n",
            "279/279 [==============================] - 1s 3ms/step - loss: 2214.3206 - mean_squared_error: 2214.3206 - val_loss: 375.6306 - val_mean_squared_error: 375.6306\n",
            "Epoch 55/100\n",
            "279/279 [==============================] - 1s 2ms/step - loss: 2206.7136 - mean_squared_error: 2206.7136 - val_loss: 354.9764 - val_mean_squared_error: 354.9764\n",
            "Epoch 56/100\n",
            "279/279 [==============================] - 1s 2ms/step - loss: 2157.2542 - mean_squared_error: 2157.2542 - val_loss: 368.6846 - val_mean_squared_error: 368.6846\n",
            "Epoch 57/100\n",
            "279/279 [==============================] - 1s 2ms/step - loss: 2138.7446 - mean_squared_error: 2138.7446 - val_loss: 372.1826 - val_mean_squared_error: 372.1826\n",
            "Epoch 58/100\n",
            "279/279 [==============================] - 1s 2ms/step - loss: 2207.0298 - mean_squared_error: 2207.0298 - val_loss: 366.4576 - val_mean_squared_error: 366.4576\n",
            "Epoch 59/100\n",
            "279/279 [==============================] - 1s 3ms/step - loss: 2176.5747 - mean_squared_error: 2176.5747 - val_loss: 317.7565 - val_mean_squared_error: 317.7565\n",
            "Epoch 60/100\n",
            "279/279 [==============================] - 1s 3ms/step - loss: 2146.7158 - mean_squared_error: 2146.7158 - val_loss: 329.5065 - val_mean_squared_error: 329.5064\n",
            "Epoch 61/100\n",
            "279/279 [==============================] - 1s 2ms/step - loss: 2129.8374 - mean_squared_error: 2129.8374 - val_loss: 316.6520 - val_mean_squared_error: 316.6520\n",
            "Epoch 62/100\n",
            "279/279 [==============================] - 1s 2ms/step - loss: 2028.2010 - mean_squared_error: 2028.2010 - val_loss: 298.7631 - val_mean_squared_error: 298.7631\n",
            "Epoch 63/100\n",
            "279/279 [==============================] - 1s 2ms/step - loss: 2119.4465 - mean_squared_error: 2119.4465 - val_loss: 397.5765 - val_mean_squared_error: 397.5765\n",
            "Epoch 64/100\n",
            "279/279 [==============================] - 1s 3ms/step - loss: 2090.1963 - mean_squared_error: 2090.1963 - val_loss: 316.8931 - val_mean_squared_error: 316.8931\n",
            "Epoch 65/100\n",
            "279/279 [==============================] - 1s 2ms/step - loss: 2037.4646 - mean_squared_error: 2037.4646 - val_loss: 354.3417 - val_mean_squared_error: 354.3417\n",
            "Epoch 66/100\n",
            "279/279 [==============================] - 1s 2ms/step - loss: 2041.0780 - mean_squared_error: 2041.0780 - val_loss: 274.9414 - val_mean_squared_error: 274.9414\n",
            "Epoch 67/100\n",
            "279/279 [==============================] - 1s 3ms/step - loss: 2040.7577 - mean_squared_error: 2040.7578 - val_loss: 287.7154 - val_mean_squared_error: 287.7154\n",
            "Epoch 68/100\n",
            "279/279 [==============================] - 1s 2ms/step - loss: 1936.2727 - mean_squared_error: 1936.2727 - val_loss: 280.6711 - val_mean_squared_error: 280.6711\n",
            "Epoch 69/100\n",
            "279/279 [==============================] - 1s 2ms/step - loss: 2024.9331 - mean_squared_error: 2024.9331 - val_loss: 312.9424 - val_mean_squared_error: 312.9424\n",
            "Epoch 70/100\n",
            "279/279 [==============================] - 1s 3ms/step - loss: 2005.2072 - mean_squared_error: 2005.2072 - val_loss: 293.9391 - val_mean_squared_error: 293.9391\n",
            "Epoch 71/100\n",
            "279/279 [==============================] - 1s 3ms/step - loss: 1987.8096 - mean_squared_error: 1987.8096 - val_loss: 268.3924 - val_mean_squared_error: 268.3924\n",
            "Epoch 72/100\n",
            "279/279 [==============================] - 2s 8ms/step - loss: 1991.5966 - mean_squared_error: 1991.5966 - val_loss: 345.2966 - val_mean_squared_error: 345.2966\n",
            "Epoch 73/100\n",
            "279/279 [==============================] - 2s 6ms/step - loss: 1988.8851 - mean_squared_error: 1988.8851 - val_loss: 330.6656 - val_mean_squared_error: 330.6656\n",
            "Epoch 74/100\n",
            "279/279 [==============================] - 1s 5ms/step - loss: 1990.4547 - mean_squared_error: 1990.4547 - val_loss: 333.1391 - val_mean_squared_error: 333.1391\n",
            "Epoch 75/100\n",
            "279/279 [==============================] - 1s 3ms/step - loss: 1923.9102 - mean_squared_error: 1923.9102 - val_loss: 303.1386 - val_mean_squared_error: 303.1386\n",
            "Epoch 76/100\n",
            "279/279 [==============================] - 1s 3ms/step - loss: 1942.0020 - mean_squared_error: 1942.0020 - val_loss: 352.1115 - val_mean_squared_error: 352.1115\n",
            "Epoch 77/100\n",
            "279/279 [==============================] - 1s 3ms/step - loss: 1922.8392 - mean_squared_error: 1922.8392 - val_loss: 270.3825 - val_mean_squared_error: 270.3825\n",
            "Epoch 78/100\n",
            "279/279 [==============================] - 1s 3ms/step - loss: 1920.7635 - mean_squared_error: 1920.7635 - val_loss: 214.1808 - val_mean_squared_error: 214.1808\n",
            "Epoch 79/100\n",
            "279/279 [==============================] - 1s 4ms/step - loss: 1887.7086 - mean_squared_error: 1887.7086 - val_loss: 281.7679 - val_mean_squared_error: 281.7679\n",
            "Epoch 80/100\n",
            "279/279 [==============================] - 1s 4ms/step - loss: 1885.2582 - mean_squared_error: 1885.2582 - val_loss: 233.4240 - val_mean_squared_error: 233.4240\n",
            "Epoch 81/100\n",
            "279/279 [==============================] - 1s 3ms/step - loss: 1841.0582 - mean_squared_error: 1841.0582 - val_loss: 274.6648 - val_mean_squared_error: 274.6648\n",
            "Epoch 82/100\n",
            "279/279 [==============================] - 1s 3ms/step - loss: 1938.2478 - mean_squared_error: 1938.2478 - val_loss: 250.9509 - val_mean_squared_error: 250.9509\n",
            "Epoch 83/100\n",
            "279/279 [==============================] - 1s 3ms/step - loss: 1880.8544 - mean_squared_error: 1880.8544 - val_loss: 235.5264 - val_mean_squared_error: 235.5264\n",
            "Epoch 84/100\n",
            "279/279 [==============================] - 1s 3ms/step - loss: 1939.3081 - mean_squared_error: 1939.3081 - val_loss: 287.4130 - val_mean_squared_error: 287.4130\n",
            "Epoch 85/100\n",
            "279/279 [==============================] - 1s 3ms/step - loss: 1806.0929 - mean_squared_error: 1806.0929 - val_loss: 256.5008 - val_mean_squared_error: 256.5008\n",
            "Epoch 86/100\n",
            "279/279 [==============================] - 1s 3ms/step - loss: 1844.2714 - mean_squared_error: 1844.2714 - val_loss: 267.9198 - val_mean_squared_error: 267.9198\n",
            "Epoch 87/100\n",
            "279/279 [==============================] - 1s 3ms/step - loss: 1915.9707 - mean_squared_error: 1915.9707 - val_loss: 275.8089 - val_mean_squared_error: 275.8089\n",
            "Epoch 88/100\n",
            "279/279 [==============================] - 1s 2ms/step - loss: 1831.6987 - mean_squared_error: 1831.6987 - val_loss: 247.7659 - val_mean_squared_error: 247.7659\n",
            "Epoch 89/100\n",
            "279/279 [==============================] - 1s 3ms/step - loss: 1846.6342 - mean_squared_error: 1846.6343 - val_loss: 280.5831 - val_mean_squared_error: 280.5831\n",
            "Epoch 90/100\n",
            "279/279 [==============================] - 1s 2ms/step - loss: 1883.6194 - mean_squared_error: 1883.6194 - val_loss: 256.0376 - val_mean_squared_error: 256.0376\n",
            "Epoch 91/100\n",
            "279/279 [==============================] - 1s 2ms/step - loss: 1843.8019 - mean_squared_error: 1843.8019 - val_loss: 272.7405 - val_mean_squared_error: 272.7405\n",
            "Epoch 92/100\n",
            "279/279 [==============================] - 1s 2ms/step - loss: 1832.7294 - mean_squared_error: 1832.7294 - val_loss: 252.1981 - val_mean_squared_error: 252.1981\n",
            "Epoch 93/100\n",
            "279/279 [==============================] - 1s 2ms/step - loss: 1806.5387 - mean_squared_error: 1806.5388 - val_loss: 292.4932 - val_mean_squared_error: 292.4932\n",
            "Epoch 94/100\n",
            "279/279 [==============================] - 1s 2ms/step - loss: 1782.0608 - mean_squared_error: 1782.0608 - val_loss: 278.3781 - val_mean_squared_error: 278.3781\n",
            "Epoch 95/100\n",
            "279/279 [==============================] - 1s 3ms/step - loss: 1760.5845 - mean_squared_error: 1760.5845 - val_loss: 247.6676 - val_mean_squared_error: 247.6676\n",
            "Epoch 96/100\n",
            "279/279 [==============================] - 1s 3ms/step - loss: 1791.7172 - mean_squared_error: 1791.7172 - val_loss: 220.6642 - val_mean_squared_error: 220.6642\n",
            "Epoch 97/100\n",
            "279/279 [==============================] - 1s 3ms/step - loss: 1821.8925 - mean_squared_error: 1821.8925 - val_loss: 259.6930 - val_mean_squared_error: 259.6930\n",
            "Epoch 98/100\n",
            "279/279 [==============================] - 1s 3ms/step - loss: 1760.7778 - mean_squared_error: 1760.7778 - val_loss: 213.9763 - val_mean_squared_error: 213.9763\n",
            "Epoch 99/100\n",
            "279/279 [==============================] - 1s 2ms/step - loss: 1823.7526 - mean_squared_error: 1823.7526 - val_loss: 241.4841 - val_mean_squared_error: 241.4841\n",
            "Epoch 100/100\n",
            "279/279 [==============================] - 1s 3ms/step - loss: 1784.1696 - mean_squared_error: 1784.1696 - val_loss: 231.3561 - val_mean_squared_error: 231.3561\n"
          ]
        }
      ]
    },
    {
      "cell_type": "code",
      "source": [
        "modeld.evaluate(X_train,Y_train)"
      ],
      "metadata": {
        "colab": {
          "base_uri": "https://localhost:8080/"
        },
        "id": "iEGNPKtYC6sS",
        "outputId": "c272450b-4177-43c9-cb54-850d7149168b"
      },
      "execution_count": 131,
      "outputs": [
        {
          "output_type": "stream",
          "name": "stdout",
          "text": [
            "249/249 [==============================] - 0s 2ms/step - loss: 235.1452 - mean_squared_error: 235.1452\n"
          ]
        },
        {
          "output_type": "execute_result",
          "data": {
            "text/plain": [
              "[235.14520263671875, 235.14520263671875]"
            ]
          },
          "metadata": {},
          "execution_count": 131
        }
      ]
    },
    {
      "cell_type": "code",
      "source": [
        "modeld.evaluate(X_test,Y_test)"
      ],
      "metadata": {
        "colab": {
          "base_uri": "https://localhost:8080/"
        },
        "id": "dL69Um97ESUn",
        "outputId": "4ae532a3-2cd8-40e6-cb45-2b7d915b66e1"
      },
      "execution_count": 132,
      "outputs": [
        {
          "output_type": "stream",
          "name": "stdout",
          "text": [
            "107/107 [==============================] - 0s 2ms/step - loss: 236.6685 - mean_squared_error: 236.6685\n"
          ]
        },
        {
          "output_type": "execute_result",
          "data": {
            "text/plain": [
              "[236.66847229003906, 236.66847229003906]"
            ]
          },
          "metadata": {},
          "execution_count": 132
        }
      ]
    },
    {
      "cell_type": "code",
      "source": [
        "history2.history.keys()"
      ],
      "metadata": {
        "colab": {
          "base_uri": "https://localhost:8080/"
        },
        "id": "uUHRWgZeEYwj",
        "outputId": "5cbda0f8-e195-4767-ec4b-4c4cec296047"
      },
      "execution_count": 133,
      "outputs": [
        {
          "output_type": "execute_result",
          "data": {
            "text/plain": [
              "dict_keys(['loss', 'mean_squared_error', 'val_loss', 'val_mean_squared_error'])"
            ]
          },
          "metadata": {},
          "execution_count": 133
        }
      ]
    },
    {
      "cell_type": "code",
      "source": [
        "import matplotlib.pyplot as plt\n",
        "plt.plot(history2.history[\"mean_squared_error\"])\n",
        "plt.plot(history2.history[\"val_mean_squared_error\"])\n",
        "plt.title(\"modeld MSE\")\n",
        "plt.ylabel(\"mse\")\n",
        "plt.xlabel(\"epoch\")\n",
        "plt.legend([\"train\",\"test\"],loc=\"upper left\")\n",
        "plt.show()"
      ],
      "metadata": {
        "colab": {
          "base_uri": "https://localhost:8080/",
          "height": 295
        },
        "id": "qYyd8ZDXGR_O",
        "outputId": "ff5d5cff-388d-4a75-9f25-bcf5cb7d6ea0"
      },
      "execution_count": 135,
      "outputs": [
        {
          "output_type": "display_data",
          "data": {
            "text/plain": [
              "<Figure size 432x288 with 1 Axes>"
            ],
            "image/png": "[encoded data removed]"
          },
          "metadata": {
            "needs_background": "light"
          }
        }
      ]
    },
    {
      "cell_type": "code",
      "source": [
        "# by comparing both the models 1st model (with out droping the layres) is giving the best results "
      ],
      "metadata": {
        "id": "zZ9qqiSZHHeE"
      },
      "execution_count": null,
      "outputs": []
    }
  ]
}